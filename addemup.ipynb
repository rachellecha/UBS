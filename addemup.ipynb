{
 "metadata": {
  "language_info": {
   "codemirror_mode": {
    "name": "ipython",
    "version": 3
   },
   "file_extension": ".py",
   "mimetype": "text/x-python",
   "name": "python",
   "nbconvert_exporter": "python",
   "pygments_lexer": "ipython3",
   "version": "3.7.4-final"
  },
  "orig_nbformat": 2,
  "kernelspec": {
   "name": "python3",
   "display_name": "Python 3"
  }
 },
 "nbformat": 4,
 "nbformat_minor": 2,
 "cells": [
  {
   "cell_type": "code",
   "execution_count": 123,
   "metadata": {},
   "outputs": [],
   "source": [
    "import pandas as pd\n",
    "import numpy as np\n",
    "from sklearn import preprocessing\n",
    "import math"
   ]
  },
  {
   "cell_type": "code",
   "execution_count": 124,
   "metadata": {},
   "outputs": [],
   "source": [
    "data = pd.read_csv('UBSdata - 2014.csv')"
   ]
  },
  {
   "cell_type": "code",
   "execution_count": 125,
   "metadata": {},
   "outputs": [],
   "source": [
    "for index, row in data.iterrows():\n",
    "    if math.isnan(row[\"poverty\"]):\n",
    "        data.at[index, \"poverty\"] = 0\n",
    "    if math.isnan(row[\"bachelors\"]):\n",
    "        data.at[index, \"bachelors\"] = 0\n",
    "    if math.isnan(row[\"associates\"]):\n",
    "        data.at[index, \"associates\"] = 0\n",
    "    if math.isnan(row[\"car\"]):\n",
    "        data.at[index, \"car\"] = 0\n",
    "    if math.isnan(row[\"diff_countyHouse\"]):\n",
    "        data.at[index, \"diff_countyHouse\"] = 0\n",
    "    if math.isnan(row[\"diff_countyRent\"]):\n",
    "        data.at[index, \"diff_countyRent\"] = 0\n",
    "    if math.isnan(row[\"diff_stateHouse\"]):\n",
    "        data.at[index, \"diff_stateHouse\"] = 0\n",
    "    if math.isnan(row[\"diff_stateRent\"]):\n",
    "        data.at[index, \"diff_stateRent\"] = 0\n",
    "    if math.isnan(row[\"health_ins\"]):\n",
    "        data.at[index, \"health_ins\"] = 0\n",
    "    if math.isnan(row[\"population\"]):\n",
    "        data.at[index, \"population\"] = 0\n",
    "    if math.isnan(row[\"self_income\"]):\n",
    "        data.at[index, \"self_income\"] = 0\n",
    "    if math.isnan(row[\"house_val\"]):\n",
    "        data.at[index, \"house_val\"] = 0"
   ]
  },
  {
   "cell_type": "code",
   "execution_count": 126,
   "metadata": {},
   "outputs": [],
   "source": [
    "df2 = data[data.columns.difference(['full_name', 'census_tract'])]\n",
    "normalized_df=(df2-df2.mean())/df2.std()"
   ]
  },
  {
   "cell_type": "code",
   "execution_count": 127,
   "metadata": {},
   "outputs": [],
   "source": [
    "for index, row in normalized_df.iterrows():\n",
    "    val = (row[\"poverty\"]*0.07)+(row[\"bachelors\"]*0.09)+(row[\"associates\"]*0.09)+(row[\"car\"]*0.04)+(row[\"diff_countyHouse\"]*0.03)+(row[\"diff_countyRent\"]*0.03)+(row[\"diff_stateRent\"]*0.03)+(row[\"diff_stateHouse\"]*0.03)+(row[\"health_ins\"]*0.8)+(row[\"house_val\"]*0.07)+(row[\"population\"]*0.03)+(row[\"self_income\"]*0.13)+(row[\"museums\"]*0.05)+(row[\"pharmacies\"]*0.08)\n",
    "    normalized_df.at[index, \"score\"] = val\n"
   ]
  },
  {
   "cell_type": "code",
   "execution_count": 128,
   "metadata": {},
   "outputs": [],
   "source": [
    "normalized_df[\"score\"]=(normalized_df[\"score\"]-normalized_df[\"score\"].min())/(normalized_df[\"score\"].max()-normalized_df[\"score\"].min())*100\n",
    "\n"
   ]
  },
  {
   "cell_type": "code",
   "execution_count": 129,
   "metadata": {},
   "outputs": [
    {
     "output_type": "execute_result",
     "data": {
      "text/plain": [
       "   associates  bachelors       car  diff_countyHouse  diff_countyRent  \\\n",
       "0   -0.769380  -1.262647 -1.158511         -0.730563        -0.703590   \n",
       "1   -0.226131  -0.193795  1.012702          0.950626        -0.703590   \n",
       "2    0.463710   0.280534  1.458261          1.570012         0.579740   \n",
       "3   -1.174661  -0.897778 -0.648214         -0.465112        -0.291091   \n",
       "4    1.420863   1.415920  1.616029         -0.730563         0.503351   \n",
       "5    1.265649   2.274435  1.222153         -0.354507        -0.703590   \n",
       "6   -1.269514  -1.002946 -0.551921         -0.354507        -0.459146   \n",
       "7   -0.967709  -0.571542 -1.305399         -0.199661        -0.703590   \n",
       "8   -0.493444  -1.114553 -0.821214         -0.730563        -0.703590   \n",
       "9   -0.183016  -0.376230 -0.989319         -0.133298        -0.703590   \n",
       "\n",
       "   diff_stateHouse  diff_stateRent  health_ins  house_val   museums  \\\n",
       "0        -0.440417        0.089895   -1.131070  -0.616493  0.312683   \n",
       "1        -0.662095       -0.432209    1.041481  -0.487009 -0.125641   \n",
       "2        -0.357288        1.579429    1.486867  -0.370536 -0.710074   \n",
       "3        -0.662095       -0.601125   -0.618794  -1.500578  1.335440   \n",
       "4        -0.662095        0.274168    1.644574   0.007384 -0.417858   \n",
       "5         0.667974       -0.601125    1.182873   2.043815  0.166575   \n",
       "6        -0.440417       -0.217225   -0.842303  -0.676589 -0.125641   \n",
       "7        -0.662095        0.228100   -1.275726  -0.054570 -0.710074   \n",
       "8        -0.107900        0.412372   -0.899404  -1.332063  1.335440   \n",
       "9        -0.301868       -0.601125   -0.959768   0.097218 -0.417858   \n",
       "\n",
       "   pharmacies  population   poverty      score  self_income  \n",
       "0   -0.308789   -1.158511  0.704919  15.721524    -0.993649  \n",
       "1    1.764868    1.012702  1.641978  39.846091    -0.338908  \n",
       "2    0.579921    1.458261  0.347846  45.837674     1.010865  \n",
       "3   -0.308789   -0.648214  0.888616  20.001690    -1.124597  \n",
       "4    0.283684    1.616029 -0.766718  47.198201     0.920209  \n",
       "5   -0.308789    1.222153 -0.325020  45.705948     1.252616  \n",
       "6    1.764868   -0.551921  1.078504  20.008428    -1.044014  \n",
       "7   -0.308789   -1.305399 -0.081468  14.905281    -0.570586  \n",
       "8   -1.197499   -0.821214  1.080568  18.328050    -0.741826  \n",
       "9    2.653578   -0.989319 -0.960735  20.661622    -0.469856  "
      ],
      "text/html": "<div>\n<style scoped>\n    .dataframe tbody tr th:only-of-type {\n        vertical-align: middle;\n    }\n\n    .dataframe tbody tr th {\n        vertical-align: top;\n    }\n\n    .dataframe thead th {\n        text-align: right;\n    }\n</style>\n<table border=\"1\" class=\"dataframe\">\n  <thead>\n    <tr style=\"text-align: right;\">\n      <th></th>\n      <th>associates</th>\n      <th>bachelors</th>\n      <th>car</th>\n      <th>diff_countyHouse</th>\n      <th>diff_countyRent</th>\n      <th>diff_stateHouse</th>\n      <th>diff_stateRent</th>\n      <th>health_ins</th>\n      <th>house_val</th>\n      <th>museums</th>\n      <th>pharmacies</th>\n      <th>population</th>\n      <th>poverty</th>\n      <th>score</th>\n      <th>self_income</th>\n    </tr>\n  </thead>\n  <tbody>\n    <tr>\n      <td>0</td>\n      <td>-0.769380</td>\n      <td>-1.262647</td>\n      <td>-1.158511</td>\n      <td>-0.730563</td>\n      <td>-0.703590</td>\n      <td>-0.440417</td>\n      <td>0.089895</td>\n      <td>-1.131070</td>\n      <td>-0.616493</td>\n      <td>0.312683</td>\n      <td>-0.308789</td>\n      <td>-1.158511</td>\n      <td>0.704919</td>\n      <td>15.721524</td>\n      <td>-0.993649</td>\n    </tr>\n    <tr>\n      <td>1</td>\n      <td>-0.226131</td>\n      <td>-0.193795</td>\n      <td>1.012702</td>\n      <td>0.950626</td>\n      <td>-0.703590</td>\n      <td>-0.662095</td>\n      <td>-0.432209</td>\n      <td>1.041481</td>\n      <td>-0.487009</td>\n      <td>-0.125641</td>\n      <td>1.764868</td>\n      <td>1.012702</td>\n      <td>1.641978</td>\n      <td>39.846091</td>\n      <td>-0.338908</td>\n    </tr>\n    <tr>\n      <td>2</td>\n      <td>0.463710</td>\n      <td>0.280534</td>\n      <td>1.458261</td>\n      <td>1.570012</td>\n      <td>0.579740</td>\n      <td>-0.357288</td>\n      <td>1.579429</td>\n      <td>1.486867</td>\n      <td>-0.370536</td>\n      <td>-0.710074</td>\n      <td>0.579921</td>\n      <td>1.458261</td>\n      <td>0.347846</td>\n      <td>45.837674</td>\n      <td>1.010865</td>\n    </tr>\n    <tr>\n      <td>3</td>\n      <td>-1.174661</td>\n      <td>-0.897778</td>\n      <td>-0.648214</td>\n      <td>-0.465112</td>\n      <td>-0.291091</td>\n      <td>-0.662095</td>\n      <td>-0.601125</td>\n      <td>-0.618794</td>\n      <td>-1.500578</td>\n      <td>1.335440</td>\n      <td>-0.308789</td>\n      <td>-0.648214</td>\n      <td>0.888616</td>\n      <td>20.001690</td>\n      <td>-1.124597</td>\n    </tr>\n    <tr>\n      <td>4</td>\n      <td>1.420863</td>\n      <td>1.415920</td>\n      <td>1.616029</td>\n      <td>-0.730563</td>\n      <td>0.503351</td>\n      <td>-0.662095</td>\n      <td>0.274168</td>\n      <td>1.644574</td>\n      <td>0.007384</td>\n      <td>-0.417858</td>\n      <td>0.283684</td>\n      <td>1.616029</td>\n      <td>-0.766718</td>\n      <td>47.198201</td>\n      <td>0.920209</td>\n    </tr>\n    <tr>\n      <td>5</td>\n      <td>1.265649</td>\n      <td>2.274435</td>\n      <td>1.222153</td>\n      <td>-0.354507</td>\n      <td>-0.703590</td>\n      <td>0.667974</td>\n      <td>-0.601125</td>\n      <td>1.182873</td>\n      <td>2.043815</td>\n      <td>0.166575</td>\n      <td>-0.308789</td>\n      <td>1.222153</td>\n      <td>-0.325020</td>\n      <td>45.705948</td>\n      <td>1.252616</td>\n    </tr>\n    <tr>\n      <td>6</td>\n      <td>-1.269514</td>\n      <td>-1.002946</td>\n      <td>-0.551921</td>\n      <td>-0.354507</td>\n      <td>-0.459146</td>\n      <td>-0.440417</td>\n      <td>-0.217225</td>\n      <td>-0.842303</td>\n      <td>-0.676589</td>\n      <td>-0.125641</td>\n      <td>1.764868</td>\n      <td>-0.551921</td>\n      <td>1.078504</td>\n      <td>20.008428</td>\n      <td>-1.044014</td>\n    </tr>\n    <tr>\n      <td>7</td>\n      <td>-0.967709</td>\n      <td>-0.571542</td>\n      <td>-1.305399</td>\n      <td>-0.199661</td>\n      <td>-0.703590</td>\n      <td>-0.662095</td>\n      <td>0.228100</td>\n      <td>-1.275726</td>\n      <td>-0.054570</td>\n      <td>-0.710074</td>\n      <td>-0.308789</td>\n      <td>-1.305399</td>\n      <td>-0.081468</td>\n      <td>14.905281</td>\n      <td>-0.570586</td>\n    </tr>\n    <tr>\n      <td>8</td>\n      <td>-0.493444</td>\n      <td>-1.114553</td>\n      <td>-0.821214</td>\n      <td>-0.730563</td>\n      <td>-0.703590</td>\n      <td>-0.107900</td>\n      <td>0.412372</td>\n      <td>-0.899404</td>\n      <td>-1.332063</td>\n      <td>1.335440</td>\n      <td>-1.197499</td>\n      <td>-0.821214</td>\n      <td>1.080568</td>\n      <td>18.328050</td>\n      <td>-0.741826</td>\n    </tr>\n    <tr>\n      <td>9</td>\n      <td>-0.183016</td>\n      <td>-0.376230</td>\n      <td>-0.989319</td>\n      <td>-0.133298</td>\n      <td>-0.703590</td>\n      <td>-0.301868</td>\n      <td>-0.601125</td>\n      <td>-0.959768</td>\n      <td>0.097218</td>\n      <td>-0.417858</td>\n      <td>2.653578</td>\n      <td>-0.989319</td>\n      <td>-0.960735</td>\n      <td>20.661622</td>\n      <td>-0.469856</td>\n    </tr>\n  </tbody>\n</table>\n</div>"
     },
     "metadata": {},
     "execution_count": 129
    }
   ],
   "source": [
    "normalized_df.head(10)\n"
   ]
  },
  {
   "cell_type": "code",
   "execution_count": 130,
   "metadata": {},
   "outputs": [
    {
     "output_type": "stream",
     "name": "stdout",
     "text": [
      "0.0 100.0\n"
     ]
    }
   ],
   "source": [
    "print(normalized_df['score'].min(), normalized_df['score'].max())"
   ]
  },
  {
   "cell_type": "code",
   "execution_count": 131,
   "metadata": {},
   "outputs": [],
   "source": [
    "normalized_df['full_name'] = pd.Series(data['full_name'])\n",
    "normalized_df['census_tract'] = pd.Series(data['census_tract'])\n",
    "\n",
    "normalized_df = normalized_df[['full_name', 'census_tract', 'associates', 'bachelors', \"car\", \"diff_countyHouse\", \"diff_countyRent\", \"diff_stateHouse\", \"diff_stateRent\", \"health_ins\", \"house_val\", \"museums\", \"pharmacies\", \"population\", \"poverty\", \"self_income\", \"score\"]]"
   ]
  },
  {
   "cell_type": "code",
   "execution_count": 132,
   "metadata": {},
   "outputs": [
    {
     "output_type": "execute_result",
     "data": {
      "text/plain": [
       "                                      full_name  census_tract  associates  \\\n",
       "0   Census Tract 1, Atlantic County, New Jersey           1.0   -0.769380   \n",
       "1      Census Tract 1, Essex County, New Jersey           1.0   -0.226131   \n",
       "2     Census Tract 1, Hudson County, New Jersey           1.0    0.463710   \n",
       "3     Census Tract 1, Mercer County, New Jersey           1.0   -1.174661   \n",
       "4  Census Tract 1, Middlesex County, New Jersey           1.0    1.420863   \n",
       "\n",
       "   bachelors       car  diff_countyHouse  diff_countyRent  diff_stateHouse  \\\n",
       "0  -1.262647 -1.158511         -0.730563        -0.703590        -0.440417   \n",
       "1  -0.193795  1.012702          0.950626        -0.703590        -0.662095   \n",
       "2   0.280534  1.458261          1.570012         0.579740        -0.357288   \n",
       "3  -0.897778 -0.648214         -0.465112        -0.291091        -0.662095   \n",
       "4   1.415920  1.616029         -0.730563         0.503351        -0.662095   \n",
       "\n",
       "   diff_stateRent  health_ins  house_val   museums  pharmacies  population  \\\n",
       "0        0.089895   -1.131070  -0.616493  0.312683   -0.308789   -1.158511   \n",
       "1       -0.432209    1.041481  -0.487009 -0.125641    1.764868    1.012702   \n",
       "2        1.579429    1.486867  -0.370536 -0.710074    0.579921    1.458261   \n",
       "3       -0.601125   -0.618794  -1.500578  1.335440   -0.308789   -0.648214   \n",
       "4        0.274168    1.644574   0.007384 -0.417858    0.283684    1.616029   \n",
       "\n",
       "    poverty  self_income      score  \n",
       "0  0.704919    -0.993649  15.721524  \n",
       "1  1.641978    -0.338908  39.846091  \n",
       "2  0.347846     1.010865  45.837674  \n",
       "3  0.888616    -1.124597  20.001690  \n",
       "4 -0.766718     0.920209  47.198201  "
      ],
      "text/html": "<div>\n<style scoped>\n    .dataframe tbody tr th:only-of-type {\n        vertical-align: middle;\n    }\n\n    .dataframe tbody tr th {\n        vertical-align: top;\n    }\n\n    .dataframe thead th {\n        text-align: right;\n    }\n</style>\n<table border=\"1\" class=\"dataframe\">\n  <thead>\n    <tr style=\"text-align: right;\">\n      <th></th>\n      <th>full_name</th>\n      <th>census_tract</th>\n      <th>associates</th>\n      <th>bachelors</th>\n      <th>car</th>\n      <th>diff_countyHouse</th>\n      <th>diff_countyRent</th>\n      <th>diff_stateHouse</th>\n      <th>diff_stateRent</th>\n      <th>health_ins</th>\n      <th>house_val</th>\n      <th>museums</th>\n      <th>pharmacies</th>\n      <th>population</th>\n      <th>poverty</th>\n      <th>self_income</th>\n      <th>score</th>\n    </tr>\n  </thead>\n  <tbody>\n    <tr>\n      <td>0</td>\n      <td>Census Tract 1, Atlantic County, New Jersey</td>\n      <td>1.0</td>\n      <td>-0.769380</td>\n      <td>-1.262647</td>\n      <td>-1.158511</td>\n      <td>-0.730563</td>\n      <td>-0.703590</td>\n      <td>-0.440417</td>\n      <td>0.089895</td>\n      <td>-1.131070</td>\n      <td>-0.616493</td>\n      <td>0.312683</td>\n      <td>-0.308789</td>\n      <td>-1.158511</td>\n      <td>0.704919</td>\n      <td>-0.993649</td>\n      <td>15.721524</td>\n    </tr>\n    <tr>\n      <td>1</td>\n      <td>Census Tract 1, Essex County, New Jersey</td>\n      <td>1.0</td>\n      <td>-0.226131</td>\n      <td>-0.193795</td>\n      <td>1.012702</td>\n      <td>0.950626</td>\n      <td>-0.703590</td>\n      <td>-0.662095</td>\n      <td>-0.432209</td>\n      <td>1.041481</td>\n      <td>-0.487009</td>\n      <td>-0.125641</td>\n      <td>1.764868</td>\n      <td>1.012702</td>\n      <td>1.641978</td>\n      <td>-0.338908</td>\n      <td>39.846091</td>\n    </tr>\n    <tr>\n      <td>2</td>\n      <td>Census Tract 1, Hudson County, New Jersey</td>\n      <td>1.0</td>\n      <td>0.463710</td>\n      <td>0.280534</td>\n      <td>1.458261</td>\n      <td>1.570012</td>\n      <td>0.579740</td>\n      <td>-0.357288</td>\n      <td>1.579429</td>\n      <td>1.486867</td>\n      <td>-0.370536</td>\n      <td>-0.710074</td>\n      <td>0.579921</td>\n      <td>1.458261</td>\n      <td>0.347846</td>\n      <td>1.010865</td>\n      <td>45.837674</td>\n    </tr>\n    <tr>\n      <td>3</td>\n      <td>Census Tract 1, Mercer County, New Jersey</td>\n      <td>1.0</td>\n      <td>-1.174661</td>\n      <td>-0.897778</td>\n      <td>-0.648214</td>\n      <td>-0.465112</td>\n      <td>-0.291091</td>\n      <td>-0.662095</td>\n      <td>-0.601125</td>\n      <td>-0.618794</td>\n      <td>-1.500578</td>\n      <td>1.335440</td>\n      <td>-0.308789</td>\n      <td>-0.648214</td>\n      <td>0.888616</td>\n      <td>-1.124597</td>\n      <td>20.001690</td>\n    </tr>\n    <tr>\n      <td>4</td>\n      <td>Census Tract 1, Middlesex County, New Jersey</td>\n      <td>1.0</td>\n      <td>1.420863</td>\n      <td>1.415920</td>\n      <td>1.616029</td>\n      <td>-0.730563</td>\n      <td>0.503351</td>\n      <td>-0.662095</td>\n      <td>0.274168</td>\n      <td>1.644574</td>\n      <td>0.007384</td>\n      <td>-0.417858</td>\n      <td>0.283684</td>\n      <td>1.616029</td>\n      <td>-0.766718</td>\n      <td>0.920209</td>\n      <td>47.198201</td>\n    </tr>\n  </tbody>\n</table>\n</div>"
     },
     "metadata": {},
     "execution_count": 132
    }
   ],
   "source": [
    "normalized_df.head()"
   ]
  },
  {
   "cell_type": "code",
   "execution_count": 133,
   "metadata": {},
   "outputs": [],
   "source": [
    "normalized_df.to_csv(r'/Users/rachellecha/Desktop/UBS/finalized/2014-scores.csv', index = False)"
   ]
  }
 ]
}