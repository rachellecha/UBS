{
 "metadata": {
  "language_info": {
   "codemirror_mode": {
    "name": "ipython",
    "version": 3
   },
   "file_extension": ".py",
   "mimetype": "text/x-python",
   "name": "python",
   "nbconvert_exporter": "python",
   "pygments_lexer": "ipython3",
   "version": "3.7.4-final"
  },
  "orig_nbformat": 2,
  "kernelspec": {
   "name": "python3",
   "display_name": "Python 3"
  }
 },
 "nbformat": 4,
 "nbformat_minor": 2,
 "cells": [
  {
   "cell_type": "code",
   "execution_count": 29,
   "metadata": {},
   "outputs": [],
   "source": [
    "import pandas as pd\n",
    "import math"
   ]
  },
  {
   "cell_type": "code",
   "execution_count": 30,
   "metadata": {},
   "outputs": [],
   "source": [
    "data = pd.read_csv('UBSdata - 2016.csv')"
   ]
  },
  {
   "cell_type": "code",
   "execution_count": 31,
   "metadata": {},
   "outputs": [],
   "source": [
    "for index, row in data.iterrows():\n",
    "    if math.isnan(row[\"poverty\"]):\n",
    "        data.at[index, \"poverty\"] = 0\n",
    "    if math.isnan(row[\"bachelors\"]):\n",
    "        data.at[index, \"bachelors\"] = 0\n",
    "    if math.isnan(row[\"associates\"]):\n",
    "        data.at[index, \"associates\"] = 0\n",
    "    if math.isnan(row[\"car\"]):\n",
    "        data.at[index, \"car\"] = 0\n",
    "    if math.isnan(row[\"diff_countyHouse\"]):\n",
    "        data.at[index, \"diff_countyHouse\"] = 0\n",
    "    if math.isnan(row[\"diff_countyRent\"]):\n",
    "        data.at[index, \"diff_countyRent\"] = 0\n",
    "    if math.isnan(row[\"diff_stateHouse\"]):\n",
    "        data.at[index, \"diff_stateHouse\"] = 0\n",
    "    if math.isnan(row[\"diff_stateRent\"]):\n",
    "        data.at[index, \"diff_stateRent\"] = 0\n",
    "    if math.isnan(row[\"health_ins\"]):\n",
    "        data.at[index, \"health_ins\"] = 0\n",
    "    if math.isnan(row[\"population\"]):\n",
    "        data.at[index, \"population\"] = 0\n",
    "    if math.isnan(row[\"self_income\"]):\n",
    "        data.at[index, \"self_income\"] = 0\n",
    "    if math.isnan(row[\"house_val\"]):\n",
    "        data.at[index, \"house_val\"] = 0"
   ]
  },
  {
   "cell_type": "code",
   "execution_count": 34,
   "metadata": {},
   "outputs": [],
   "source": [
    "for index, row in data.iterrows():\n",
    "    val = (row[\"poverty\"]*0.07)+(row[\"bachelors\"]*0.10)+(row[\"associates\"]*0.10)+(row[\"car\"]*0.07)+(row[\"diff_countyHouse\"]*0.04)+(row[\"diff_countyRent\"]*0.04)+(row[\"diff_stateRent\"]*0.04)+(row[\"diff_stateHouse\"]*0.04)+(row[\"health_ins\"]*0.1)+(row[\"house_val\"]*0.07)+(row[\"population\"]*0.06)+(row[\"self_income\"]*0.17)+(row[\"museums\"]*0.07)\n",
    "    val = val/650\n",
    "    data.at[index, \"score\"] = val\n"
   ]
  },
  {
   "cell_type": "code",
   "execution_count": 36,
   "metadata": {},
   "outputs": [
    {
     "output_type": "execute_result",
     "data": {
      "text/plain": [
       "                                          full_name  census_tract  poverty  \\\n",
       "0       Census Tract 1, Atlantic County, New Jersey          1.00      858   \n",
       "1          Census Tract 1, Essex County, New Jersey          1.00     1143   \n",
       "2         Census Tract 1, Hudson County, New Jersey          1.00      521   \n",
       "3         Census Tract 1, Mercer County, New Jersey          1.00      940   \n",
       "4      Census Tract 1, Middlesex County, New Jersey          1.00      485   \n",
       "5        Census Tract 10, Bergen County, New Jersey         10.00      109   \n",
       "6         Census Tract 10, Essex County, New Jersey         10.00     1004   \n",
       "7        Census Tract 10, Hudson County, New Jersey         10.00      248   \n",
       "8        Census Tract 10, Mercer County, New Jersey         10.00      957   \n",
       "9  Census Tract 10.01, Middlesex County, New Jersey         10.01       50   \n",
       "\n",
       "   bachelors  associates   car  diff_countyHouse  diff_countyRent  \\\n",
       "0        118          53  2142                 5               15   \n",
       "1        474         286  6872               102               82   \n",
       "2       1152         202  6278                42               51   \n",
       "3        185         111  3281                 0               15   \n",
       "4       1106         499  7633                20              297   \n",
       "5       1892         235  6762                28              184   \n",
       "6        267         125  3647                 0                0   \n",
       "7        503          74  1964                10                7   \n",
       "8        120          96  2722                 0              102   \n",
       "9        546          89  2544                 4                0   \n",
       "\n",
       "   diff_stateHouse  diff_stateRent  health_ins  house_val  population  \\\n",
       "0                4              47        2142   153000.0        2142   \n",
       "1                0               0        6872   232700.0        6872   \n",
       "2                0               0        6278   344900.0        6278   \n",
       "3                0              32        3281    94600.0        3281   \n",
       "4               11              36        7633   325000.0        7633   \n",
       "5               10              67        6664   710600.0        6762   \n",
       "6                0              29        3139   169900.0        3647   \n",
       "7                3              46        1964   362500.0        1964   \n",
       "8                0              90        2534    91300.0        2722   \n",
       "9              102               0        2544   352700.0        2544   \n",
       "\n",
       "   self_income  museums  pharmacies      score  \n",
       "0           46       21           4  17.372231  \n",
       "1          113       18          11  27.774462  \n",
       "2          108       14           7  39.664415  \n",
       "3           13       28           4  11.504738  \n",
       "4          264       16           6  38.093231  \n",
       "5          204       20           4  79.316046  \n",
       "6           23       18          11  19.687415  \n",
       "7           35       14           4  39.863615  \n",
       "8           10       28           1  10.920292  \n",
       "9           89       16          14  39.017862  "
      ],
      "text/html": "<div>\n<style scoped>\n    .dataframe tbody tr th:only-of-type {\n        vertical-align: middle;\n    }\n\n    .dataframe tbody tr th {\n        vertical-align: top;\n    }\n\n    .dataframe thead th {\n        text-align: right;\n    }\n</style>\n<table border=\"1\" class=\"dataframe\">\n  <thead>\n    <tr style=\"text-align: right;\">\n      <th></th>\n      <th>full_name</th>\n      <th>census_tract</th>\n      <th>poverty</th>\n      <th>bachelors</th>\n      <th>associates</th>\n      <th>car</th>\n      <th>diff_countyHouse</th>\n      <th>diff_countyRent</th>\n      <th>diff_stateHouse</th>\n      <th>diff_stateRent</th>\n      <th>health_ins</th>\n      <th>house_val</th>\n      <th>population</th>\n      <th>self_income</th>\n      <th>museums</th>\n      <th>pharmacies</th>\n      <th>score</th>\n    </tr>\n  </thead>\n  <tbody>\n    <tr>\n      <td>0</td>\n      <td>Census Tract 1, Atlantic County, New Jersey</td>\n      <td>1.00</td>\n      <td>858</td>\n      <td>118</td>\n      <td>53</td>\n      <td>2142</td>\n      <td>5</td>\n      <td>15</td>\n      <td>4</td>\n      <td>47</td>\n      <td>2142</td>\n      <td>153000.0</td>\n      <td>2142</td>\n      <td>46</td>\n      <td>21</td>\n      <td>4</td>\n      <td>17.372231</td>\n    </tr>\n    <tr>\n      <td>1</td>\n      <td>Census Tract 1, Essex County, New Jersey</td>\n      <td>1.00</td>\n      <td>1143</td>\n      <td>474</td>\n      <td>286</td>\n      <td>6872</td>\n      <td>102</td>\n      <td>82</td>\n      <td>0</td>\n      <td>0</td>\n      <td>6872</td>\n      <td>232700.0</td>\n      <td>6872</td>\n      <td>113</td>\n      <td>18</td>\n      <td>11</td>\n      <td>27.774462</td>\n    </tr>\n    <tr>\n      <td>2</td>\n      <td>Census Tract 1, Hudson County, New Jersey</td>\n      <td>1.00</td>\n      <td>521</td>\n      <td>1152</td>\n      <td>202</td>\n      <td>6278</td>\n      <td>42</td>\n      <td>51</td>\n      <td>0</td>\n      <td>0</td>\n      <td>6278</td>\n      <td>344900.0</td>\n      <td>6278</td>\n      <td>108</td>\n      <td>14</td>\n      <td>7</td>\n      <td>39.664415</td>\n    </tr>\n    <tr>\n      <td>3</td>\n      <td>Census Tract 1, Mercer County, New Jersey</td>\n      <td>1.00</td>\n      <td>940</td>\n      <td>185</td>\n      <td>111</td>\n      <td>3281</td>\n      <td>0</td>\n      <td>15</td>\n      <td>0</td>\n      <td>32</td>\n      <td>3281</td>\n      <td>94600.0</td>\n      <td>3281</td>\n      <td>13</td>\n      <td>28</td>\n      <td>4</td>\n      <td>11.504738</td>\n    </tr>\n    <tr>\n      <td>4</td>\n      <td>Census Tract 1, Middlesex County, New Jersey</td>\n      <td>1.00</td>\n      <td>485</td>\n      <td>1106</td>\n      <td>499</td>\n      <td>7633</td>\n      <td>20</td>\n      <td>297</td>\n      <td>11</td>\n      <td>36</td>\n      <td>7633</td>\n      <td>325000.0</td>\n      <td>7633</td>\n      <td>264</td>\n      <td>16</td>\n      <td>6</td>\n      <td>38.093231</td>\n    </tr>\n    <tr>\n      <td>5</td>\n      <td>Census Tract 10, Bergen County, New Jersey</td>\n      <td>10.00</td>\n      <td>109</td>\n      <td>1892</td>\n      <td>235</td>\n      <td>6762</td>\n      <td>28</td>\n      <td>184</td>\n      <td>10</td>\n      <td>67</td>\n      <td>6664</td>\n      <td>710600.0</td>\n      <td>6762</td>\n      <td>204</td>\n      <td>20</td>\n      <td>4</td>\n      <td>79.316046</td>\n    </tr>\n    <tr>\n      <td>6</td>\n      <td>Census Tract 10, Essex County, New Jersey</td>\n      <td>10.00</td>\n      <td>1004</td>\n      <td>267</td>\n      <td>125</td>\n      <td>3647</td>\n      <td>0</td>\n      <td>0</td>\n      <td>0</td>\n      <td>29</td>\n      <td>3139</td>\n      <td>169900.0</td>\n      <td>3647</td>\n      <td>23</td>\n      <td>18</td>\n      <td>11</td>\n      <td>19.687415</td>\n    </tr>\n    <tr>\n      <td>7</td>\n      <td>Census Tract 10, Hudson County, New Jersey</td>\n      <td>10.00</td>\n      <td>248</td>\n      <td>503</td>\n      <td>74</td>\n      <td>1964</td>\n      <td>10</td>\n      <td>7</td>\n      <td>3</td>\n      <td>46</td>\n      <td>1964</td>\n      <td>362500.0</td>\n      <td>1964</td>\n      <td>35</td>\n      <td>14</td>\n      <td>4</td>\n      <td>39.863615</td>\n    </tr>\n    <tr>\n      <td>8</td>\n      <td>Census Tract 10, Mercer County, New Jersey</td>\n      <td>10.00</td>\n      <td>957</td>\n      <td>120</td>\n      <td>96</td>\n      <td>2722</td>\n      <td>0</td>\n      <td>102</td>\n      <td>0</td>\n      <td>90</td>\n      <td>2534</td>\n      <td>91300.0</td>\n      <td>2722</td>\n      <td>10</td>\n      <td>28</td>\n      <td>1</td>\n      <td>10.920292</td>\n    </tr>\n    <tr>\n      <td>9</td>\n      <td>Census Tract 10.01, Middlesex County, New Jersey</td>\n      <td>10.01</td>\n      <td>50</td>\n      <td>546</td>\n      <td>89</td>\n      <td>2544</td>\n      <td>4</td>\n      <td>0</td>\n      <td>102</td>\n      <td>0</td>\n      <td>2544</td>\n      <td>352700.0</td>\n      <td>2544</td>\n      <td>89</td>\n      <td>16</td>\n      <td>14</td>\n      <td>39.017862</td>\n    </tr>\n  </tbody>\n</table>\n</div>"
     },
     "metadata": {},
     "execution_count": 36
    }
   ],
   "source": [
    "data.head(10)"
   ]
  },
  {
   "cell_type": "code",
   "execution_count": 37,
   "metadata": {},
   "outputs": [],
   "source": [
    "data.to_csv(r'/Users/rachellecha/Desktop/UBS/2016-scores.csv', index = False)"
   ]
  },
  {
   "cell_type": "code",
   "execution_count": null,
   "metadata": {},
   "outputs": [],
   "source": []
  }
 ]
}