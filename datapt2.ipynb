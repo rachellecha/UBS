{
 "metadata": {
  "language_info": {
   "codemirror_mode": {
    "name": "ipython",
    "version": 3
   },
   "file_extension": ".py",
   "mimetype": "text/x-python",
   "name": "python",
   "nbconvert_exporter": "python",
   "pygments_lexer": "ipython3",
   "version": "3.7.4-final"
  },
  "orig_nbformat": 2,
  "kernelspec": {
   "name": "python3",
   "display_name": "Python 3"
  }
 },
 "nbformat": 4,
 "nbformat_minor": 2,
 "cells": [
  {
   "cell_type": "code",
   "execution_count": 65,
   "metadata": {},
   "outputs": [],
   "source": [
    "import pandas as pd\n",
    "import math\n",
    "import random"
   ]
  },
  {
   "cell_type": "code",
   "execution_count": 66,
   "metadata": {},
   "outputs": [],
   "source": [
    "data = pd.read_csv('UBSdata - 2018 pharm.csv')\n"
   ]
  },
  {
   "cell_type": "code",
   "execution_count": 68,
   "metadata": {},
   "outputs": [],
   "source": [
    "for index, row in data.iterrows():\n",
    "    if math.isnan(row[\"poverty\"]):\n",
    "        data.at[index, \"poverty\"] = 0\n",
    "    if math.isnan(row[\"bachelors\"]):\n",
    "        data.at[index, \"bachelors\"] = 0\n",
    "    if math.isnan(row[\"associates\"]):\n",
    "        data.at[index, \"associates\"] = 0\n",
    "    if math.isnan(row[\"car\"]):\n",
    "        data.at[index, \"car\"] = 0\n",
    "    if math.isnan(row[\"diff_countyHouse\"]):\n",
    "        data.at[index, \"diff_countyHouse\"] = 0\n",
    "    if math.isnan(row[\"diff_countyRent\"]):\n",
    "        data.at[index, \"diff_countyRent\"] = 0\n",
    "    if math.isnan(row[\"diff_stateHouse\"]):\n",
    "        data.at[index, \"diff_stateHouse\"] = 0\n",
    "    if math.isnan(row[\"diff_stateRent\"]):\n",
    "        data.at[index, \"diff_stateRent\"] = 0\n",
    "    if math.isnan(row[\"health_ins\"]):\n",
    "        data.at[index, \"health_ins\"] = 0\n",
    "    if math.isnan(row[\"population\"]):\n",
    "        data.at[index, \"population\"] = 0\n",
    "    if math.isnan(row[\"self_income\"]):\n",
    "        data.at[index, \"self_income\"] = 0\n",
    "    if math.isnan(row[\"museums\"]):\n",
    "        data.at[index, \"house_val\"] = 0\n"
   ]
  },
  {
   "cell_type": "code",
   "execution_count": 69,
   "metadata": {},
   "outputs": [],
   "source": [
    "for index, row in data.iterrows():\n",
    "    if math.isnan(row['pharmacies']):\n",
    "        val = random.randint(1,7)\n",
    "        data.at[index, 'pharmacies'] = val"
   ]
  },
  {
   "cell_type": "code",
   "execution_count": 70,
   "metadata": {},
   "outputs": [
    {
     "output_type": "execute_result",
     "data": {
      "text/plain": [
       "                                              full_name  census_tract  \\\n",
       "0           Census Tract 1, Atlantic County, New Jersey          1.00   \n",
       "1              Census Tract 1, Essex County, New Jersey          1.00   \n",
       "2             Census Tract 1, Hudson County, New Jersey          1.00   \n",
       "3             Census Tract 1, Mercer County, New Jersey          1.00   \n",
       "4          Census Tract 1, Middlesex County, New Jersey          1.00   \n",
       "...                                                 ...           ...   \n",
       "2001  Census Tract 9821.11, Burlington County, New J...       9821.11   \n",
       "2002     Census Tract 9834, Atlantic County, New Jersey       9834.00   \n",
       "2003          Census Tract 99, Essex County, New Jersey         99.00   \n",
       "2004     Census Tract 9900, Monmouth County, New Jersey       9900.00   \n",
       "2005        Census Tract 9900, Ocean County, New Jersey       9900.00   \n",
       "\n",
       "      poverty  bachelors  associates   car  diff_countyHouse  diff_countyRent  \\\n",
       "0         858        118          53  2142                 5               15   \n",
       "1        1143        474         286  6872               102               82   \n",
       "2         521       1152         202  6278                42               51   \n",
       "3         940        185         111  3281                 0               15   \n",
       "4         485       1106         499  7633                20              297   \n",
       "...       ...        ...         ...   ...               ...              ...   \n",
       "2001       19         49          62   880                 0                0   \n",
       "2002        0         30           8  2328                 0                0   \n",
       "2003      459        224          77  2459                 0               35   \n",
       "2004        0          0           0     0                 0                0   \n",
       "2005        0          0           0     0                 0                0   \n",
       "\n",
       "      diff_stateHouse  diff_stateRent  health_ins  house_val  population  \\\n",
       "0                   4              47        2142   153000.0        2142   \n",
       "1                   0               0        6872   232700.0        6872   \n",
       "2                   0               0        6278   344900.0        6278   \n",
       "3                   0              32        3281    94600.0        3281   \n",
       "4                  11              36        7633   325000.0        7633   \n",
       "...               ...             ...         ...        ...         ...   \n",
       "2001                0              33         329        NaN         880   \n",
       "2002                0               0        2328        NaN        2328   \n",
       "2003                0              87        2459   196900.0        2459   \n",
       "2004                0               0           0        NaN           0   \n",
       "2005                0               0           0        NaN           0   \n",
       "\n",
       "      self_income  museums  pharmacies  score  \n",
       "0              46       21         4.0    NaN  \n",
       "1             113       18        11.0    NaN  \n",
       "2             108       14         7.0    NaN  \n",
       "3              13       28         4.0    NaN  \n",
       "4             264       16         6.0    NaN  \n",
       "...           ...      ...         ...    ...  \n",
       "2001           17       15         3.0    NaN  \n",
       "2002            0       21         6.0    NaN  \n",
       "2003           42       18         2.0    NaN  \n",
       "2004            0       34         3.0    NaN  \n",
       "2005            0       27         2.0    NaN  \n",
       "\n",
       "[2006 rows x 17 columns]"
      ],
      "text/html": "<div>\n<style scoped>\n    .dataframe tbody tr th:only-of-type {\n        vertical-align: middle;\n    }\n\n    .dataframe tbody tr th {\n        vertical-align: top;\n    }\n\n    .dataframe thead th {\n        text-align: right;\n    }\n</style>\n<table border=\"1\" class=\"dataframe\">\n  <thead>\n    <tr style=\"text-align: right;\">\n      <th></th>\n      <th>full_name</th>\n      <th>census_tract</th>\n      <th>poverty</th>\n      <th>bachelors</th>\n      <th>associates</th>\n      <th>car</th>\n      <th>diff_countyHouse</th>\n      <th>diff_countyRent</th>\n      <th>diff_stateHouse</th>\n      <th>diff_stateRent</th>\n      <th>health_ins</th>\n      <th>house_val</th>\n      <th>population</th>\n      <th>self_income</th>\n      <th>museums</th>\n      <th>pharmacies</th>\n      <th>score</th>\n    </tr>\n  </thead>\n  <tbody>\n    <tr>\n      <td>0</td>\n      <td>Census Tract 1, Atlantic County, New Jersey</td>\n      <td>1.00</td>\n      <td>858</td>\n      <td>118</td>\n      <td>53</td>\n      <td>2142</td>\n      <td>5</td>\n      <td>15</td>\n      <td>4</td>\n      <td>47</td>\n      <td>2142</td>\n      <td>153000.0</td>\n      <td>2142</td>\n      <td>46</td>\n      <td>21</td>\n      <td>4.0</td>\n      <td>NaN</td>\n    </tr>\n    <tr>\n      <td>1</td>\n      <td>Census Tract 1, Essex County, New Jersey</td>\n      <td>1.00</td>\n      <td>1143</td>\n      <td>474</td>\n      <td>286</td>\n      <td>6872</td>\n      <td>102</td>\n      <td>82</td>\n      <td>0</td>\n      <td>0</td>\n      <td>6872</td>\n      <td>232700.0</td>\n      <td>6872</td>\n      <td>113</td>\n      <td>18</td>\n      <td>11.0</td>\n      <td>NaN</td>\n    </tr>\n    <tr>\n      <td>2</td>\n      <td>Census Tract 1, Hudson County, New Jersey</td>\n      <td>1.00</td>\n      <td>521</td>\n      <td>1152</td>\n      <td>202</td>\n      <td>6278</td>\n      <td>42</td>\n      <td>51</td>\n      <td>0</td>\n      <td>0</td>\n      <td>6278</td>\n      <td>344900.0</td>\n      <td>6278</td>\n      <td>108</td>\n      <td>14</td>\n      <td>7.0</td>\n      <td>NaN</td>\n    </tr>\n    <tr>\n      <td>3</td>\n      <td>Census Tract 1, Mercer County, New Jersey</td>\n      <td>1.00</td>\n      <td>940</td>\n      <td>185</td>\n      <td>111</td>\n      <td>3281</td>\n      <td>0</td>\n      <td>15</td>\n      <td>0</td>\n      <td>32</td>\n      <td>3281</td>\n      <td>94600.0</td>\n      <td>3281</td>\n      <td>13</td>\n      <td>28</td>\n      <td>4.0</td>\n      <td>NaN</td>\n    </tr>\n    <tr>\n      <td>4</td>\n      <td>Census Tract 1, Middlesex County, New Jersey</td>\n      <td>1.00</td>\n      <td>485</td>\n      <td>1106</td>\n      <td>499</td>\n      <td>7633</td>\n      <td>20</td>\n      <td>297</td>\n      <td>11</td>\n      <td>36</td>\n      <td>7633</td>\n      <td>325000.0</td>\n      <td>7633</td>\n      <td>264</td>\n      <td>16</td>\n      <td>6.0</td>\n      <td>NaN</td>\n    </tr>\n    <tr>\n      <td>...</td>\n      <td>...</td>\n      <td>...</td>\n      <td>...</td>\n      <td>...</td>\n      <td>...</td>\n      <td>...</td>\n      <td>...</td>\n      <td>...</td>\n      <td>...</td>\n      <td>...</td>\n      <td>...</td>\n      <td>...</td>\n      <td>...</td>\n      <td>...</td>\n      <td>...</td>\n      <td>...</td>\n      <td>...</td>\n    </tr>\n    <tr>\n      <td>2001</td>\n      <td>Census Tract 9821.11, Burlington County, New J...</td>\n      <td>9821.11</td>\n      <td>19</td>\n      <td>49</td>\n      <td>62</td>\n      <td>880</td>\n      <td>0</td>\n      <td>0</td>\n      <td>0</td>\n      <td>33</td>\n      <td>329</td>\n      <td>NaN</td>\n      <td>880</td>\n      <td>17</td>\n      <td>15</td>\n      <td>3.0</td>\n      <td>NaN</td>\n    </tr>\n    <tr>\n      <td>2002</td>\n      <td>Census Tract 9834, Atlantic County, New Jersey</td>\n      <td>9834.00</td>\n      <td>0</td>\n      <td>30</td>\n      <td>8</td>\n      <td>2328</td>\n      <td>0</td>\n      <td>0</td>\n      <td>0</td>\n      <td>0</td>\n      <td>2328</td>\n      <td>NaN</td>\n      <td>2328</td>\n      <td>0</td>\n      <td>21</td>\n      <td>6.0</td>\n      <td>NaN</td>\n    </tr>\n    <tr>\n      <td>2003</td>\n      <td>Census Tract 99, Essex County, New Jersey</td>\n      <td>99.00</td>\n      <td>459</td>\n      <td>224</td>\n      <td>77</td>\n      <td>2459</td>\n      <td>0</td>\n      <td>35</td>\n      <td>0</td>\n      <td>87</td>\n      <td>2459</td>\n      <td>196900.0</td>\n      <td>2459</td>\n      <td>42</td>\n      <td>18</td>\n      <td>2.0</td>\n      <td>NaN</td>\n    </tr>\n    <tr>\n      <td>2004</td>\n      <td>Census Tract 9900, Monmouth County, New Jersey</td>\n      <td>9900.00</td>\n      <td>0</td>\n      <td>0</td>\n      <td>0</td>\n      <td>0</td>\n      <td>0</td>\n      <td>0</td>\n      <td>0</td>\n      <td>0</td>\n      <td>0</td>\n      <td>NaN</td>\n      <td>0</td>\n      <td>0</td>\n      <td>34</td>\n      <td>3.0</td>\n      <td>NaN</td>\n    </tr>\n    <tr>\n      <td>2005</td>\n      <td>Census Tract 9900, Ocean County, New Jersey</td>\n      <td>9900.00</td>\n      <td>0</td>\n      <td>0</td>\n      <td>0</td>\n      <td>0</td>\n      <td>0</td>\n      <td>0</td>\n      <td>0</td>\n      <td>0</td>\n      <td>0</td>\n      <td>NaN</td>\n      <td>0</td>\n      <td>0</td>\n      <td>27</td>\n      <td>2.0</td>\n      <td>NaN</td>\n    </tr>\n  </tbody>\n</table>\n<p>2006 rows × 17 columns</p>\n</div>"
     },
     "metadata": {},
     "execution_count": 70
    }
   ],
   "source": [
    "data"
   ]
  },
  {
   "cell_type": "code",
   "execution_count": 71,
   "metadata": {},
   "outputs": [],
   "source": [
    "data.to_csv(r'/Users/rachellecha/Desktop/UBS/2016-scores.csv', index = False)"
   ]
  },
  {
   "cell_type": "code",
   "execution_count": null,
   "metadata": {},
   "outputs": [],
   "source": []
  }
 ]
}