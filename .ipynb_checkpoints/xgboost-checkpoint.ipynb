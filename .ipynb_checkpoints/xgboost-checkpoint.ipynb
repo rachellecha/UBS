{
 "cells": [
  {
   "cell_type": "code",
   "execution_count": 46,
   "metadata": {},
   "outputs": [],
   "source": [
    "import pandas as pd\n",
    "import numpy as np\n",
    "import xgboost as xgb\n",
    "from sklearn import preprocessing\n",
    "from sklearn.metrics import mean_squared_error\n",
    "from sklearn.model_selection import train_test_split"
   ]
  },
  {
   "cell_type": "code",
   "execution_count": 56,
   "metadata": {},
   "outputs": [],
   "source": [
    "data2014 = pd.read_csv(\"finalized/2014-scores.csv\")\n",
    "data2016 = pd.read_csv(\"finalized/2016-scores.csv\")\n",
    "data2018 = pd.read_csv(\"finalized/2018-scores.csv\")\n",
    "\n",
    "df2018 = data2018[data2018.columns.difference(['census_tract', 'full_name'])]\n",
    "df2016 = data2016[data2016.columns.difference(['census_tract', 'full_name', 'score'])]\n",
    "df2014 = data2014[data2014.columns.difference(['census_tract', 'full_name', 'score'])]"
   ]
  },
  {
   "cell_type": "code",
   "execution_count": 57,
   "metadata": {},
   "outputs": [],
   "source": [
    "df2018 = df2018.rename(columns={\"associates\": \"associates2018\", \"bachelors\": \"bachelors2018\",\"car\": \"car2018\",\"diff_countyHouse\": \"diff_countyHouse2018\",\"diff_countyRent\": \"diff_countyRent2018\",\"diff_stateHouse\": \"diff_stateHouse2018\",\"diff_stateRent\": \"diff_stateRent2018\",\"health_ins\": \"health_ins2018\",\"house_val\": \"house_val2018\",\"museums\": \"museums2018\",\"pharmacies\": \"pharmacies2018\",\"population\": \"population2018\",\"poverty\": \"poverty2018\",\"self_income\": \"self_income2018\"})"
   ]
  },
  {
   "cell_type": "code",
   "execution_count": 58,
   "metadata": {},
   "outputs": [],
   "source": [
    "rename = lambda year, dataframe: dict(zip(list(dataframe.columns), [s + str(year) for s in list(dataframe.columns)]))"
   ]
  },
  {
   "cell_type": "code",
   "execution_count": 59,
   "metadata": {},
   "outputs": [],
   "source": [
    "df2016 = df2016.rename(columns=rename(2016, df2016))\n",
    "df2014 = df2014.rename(columns=rename(2014, df2014))"
   ]
  },
  {
   "cell_type": "code",
   "execution_count": 60,
   "metadata": {},
   "outputs": [
    {
     "data": {
      "text/html": [
       "<div>\n",
       "<style scoped>\n",
       "    .dataframe tbody tr th:only-of-type {\n",
       "        vertical-align: middle;\n",
       "    }\n",
       "\n",
       "    .dataframe tbody tr th {\n",
       "        vertical-align: top;\n",
       "    }\n",
       "\n",
       "    .dataframe thead th {\n",
       "        text-align: right;\n",
       "    }\n",
       "</style>\n",
       "<table border=\"1\" class=\"dataframe\">\n",
       "  <thead>\n",
       "    <tr style=\"text-align: right;\">\n",
       "      <th></th>\n",
       "      <th>associates2016</th>\n",
       "      <th>bachelors2016</th>\n",
       "      <th>car2016</th>\n",
       "      <th>diff_countyHouse2016</th>\n",
       "      <th>diff_countyRent2016</th>\n",
       "      <th>diff_stateHouse2016</th>\n",
       "      <th>diff_stateRent2016</th>\n",
       "      <th>health_ins2016</th>\n",
       "      <th>house_val2016</th>\n",
       "      <th>museums2016</th>\n",
       "      <th>pharmacies2016</th>\n",
       "      <th>population2016</th>\n",
       "      <th>poverty2016</th>\n",
       "      <th>self_income2016</th>\n",
       "    </tr>\n",
       "  </thead>\n",
       "  <tbody>\n",
       "    <tr>\n",
       "      <th>0</th>\n",
       "      <td>-1.124448</td>\n",
       "      <td>-1.184470</td>\n",
       "      <td>-1.138599</td>\n",
       "      <td>-0.619780</td>\n",
       "      <td>-0.564730</td>\n",
       "      <td>-0.558350</td>\n",
       "      <td>0.067856</td>\n",
       "      <td>-1.112696</td>\n",
       "      <td>-0.763971</td>\n",
       "      <td>0.312683</td>\n",
       "      <td>-0.308789</td>\n",
       "      <td>-1.138599</td>\n",
       "      <td>0.844990</td>\n",
       "      <td>-0.941716</td>\n",
       "    </tr>\n",
       "    <tr>\n",
       "      <th>1</th>\n",
       "      <td>0.070396</td>\n",
       "      <td>-0.318310</td>\n",
       "      <td>1.072695</td>\n",
       "      <td>1.396378</td>\n",
       "      <td>-0.718012</td>\n",
       "      <td>-0.691798</td>\n",
       "      <td>-0.408449</td>\n",
       "      <td>1.101662</td>\n",
       "      <td>-0.529140</td>\n",
       "      <td>-0.125641</td>\n",
       "      <td>1.764868</td>\n",
       "      <td>1.072695</td>\n",
       "      <td>1.804083</td>\n",
       "      <td>-0.486864</td>\n",
       "    </tr>\n",
       "    <tr>\n",
       "      <th>2</th>\n",
       "      <td>1.393259</td>\n",
       "      <td>0.447909</td>\n",
       "      <td>1.146762</td>\n",
       "      <td>0.013870</td>\n",
       "      <td>0.753498</td>\n",
       "      <td>-0.398213</td>\n",
       "      <td>1.169311</td>\n",
       "      <td>1.175742</td>\n",
       "      <td>-0.182118</td>\n",
       "      <td>-0.710074</td>\n",
       "      <td>0.579921</td>\n",
       "      <td>1.146762</td>\n",
       "      <td>0.481123</td>\n",
       "      <td>0.278114</td>\n",
       "    </tr>\n",
       "    <tr>\n",
       "      <th>3</th>\n",
       "      <td>-1.312210</td>\n",
       "      <td>-0.942945</td>\n",
       "      <td>-0.654476</td>\n",
       "      <td>-0.696586</td>\n",
       "      <td>-0.334806</td>\n",
       "      <td>-0.691798</td>\n",
       "      <td>-0.155412</td>\n",
       "      <td>-0.625806</td>\n",
       "      <td>-1.297428</td>\n",
       "      <td>1.335440</td>\n",
       "      <td>-0.308789</td>\n",
       "      <td>-0.654476</td>\n",
       "      <td>0.680934</td>\n",
       "      <td>-1.262179</td>\n",
       "    </tr>\n",
       "    <tr>\n",
       "      <th>4</th>\n",
       "      <td>2.016284</td>\n",
       "      <td>1.118351</td>\n",
       "      <td>1.993709</td>\n",
       "      <td>-0.696586</td>\n",
       "      <td>5.275326</td>\n",
       "      <td>-0.344834</td>\n",
       "      <td>0.425084</td>\n",
       "      <td>2.022835</td>\n",
       "      <td>-0.024831</td>\n",
       "      <td>-0.417858</td>\n",
       "      <td>0.283684</td>\n",
       "      <td>1.993709</td>\n",
       "      <td>0.622042</td>\n",
       "      <td>0.495202</td>\n",
       "    </tr>\n",
       "  </tbody>\n",
       "</table>\n",
       "</div>"
      ],
      "text/plain": [
       "   associates2016  bachelors2016   car2016  diff_countyHouse2016  \\\n",
       "0       -1.124448      -1.184470 -1.138599             -0.619780   \n",
       "1        0.070396      -0.318310  1.072695              1.396378   \n",
       "2        1.393259       0.447909  1.146762              0.013870   \n",
       "3       -1.312210      -0.942945 -0.654476             -0.696586   \n",
       "4        2.016284       1.118351  1.993709             -0.696586   \n",
       "\n",
       "   diff_countyRent2016  diff_stateHouse2016  diff_stateRent2016  \\\n",
       "0            -0.564730            -0.558350            0.067856   \n",
       "1            -0.718012            -0.691798           -0.408449   \n",
       "2             0.753498            -0.398213            1.169311   \n",
       "3            -0.334806            -0.691798           -0.155412   \n",
       "4             5.275326            -0.344834            0.425084   \n",
       "\n",
       "   health_ins2016  house_val2016  museums2016  pharmacies2016  population2016  \\\n",
       "0       -1.112696      -0.763971     0.312683       -0.308789       -1.138599   \n",
       "1        1.101662      -0.529140    -0.125641        1.764868        1.072695   \n",
       "2        1.175742      -0.182118    -0.710074        0.579921        1.146762   \n",
       "3       -0.625806      -1.297428     1.335440       -0.308789       -0.654476   \n",
       "4        2.022835      -0.024831    -0.417858        0.283684        1.993709   \n",
       "\n",
       "   poverty2016  self_income2016  \n",
       "0     0.844990        -0.941716  \n",
       "1     1.804083        -0.486864  \n",
       "2     0.481123         0.278114  \n",
       "3     0.680934        -1.262179  \n",
       "4     0.622042         0.495202  "
      ]
     },
     "execution_count": 60,
     "metadata": {},
     "output_type": "execute_result"
    }
   ],
   "source": [
    "df2016.head()"
   ]
  },
  {
   "cell_type": "code",
   "execution_count": 61,
   "metadata": {},
   "outputs": [],
   "source": [
    "df2014 = df2014.drop([2006, 2007])"
   ]
  },
  {
   "cell_type": "code",
   "execution_count": 62,
   "metadata": {},
   "outputs": [
    {
     "name": "stdout",
     "output_type": "stream",
     "text": [
      "Index(['associates2016', 'bachelors2016', 'car2016', 'diff_countyHouse2016',\n",
      "       'diff_countyRent2016', 'diff_stateHouse2016', 'diff_stateRent2016',\n",
      "       'health_ins2016', 'house_val2016', 'museums2016', 'pharmacies2016',\n",
      "       'population2016', 'poverty2016', 'self_income2016'],\n",
      "      dtype='object')\n",
      "(2006, 14)\n"
     ]
    }
   ],
   "source": [
    "print(df2016.columns)\n",
    "print(df2014.shape)"
   ]
  },
  {
   "cell_type": "code",
   "execution_count": 63,
   "metadata": {},
   "outputs": [
    {
     "data": {
      "text/plain": [
       "(2006, 28)"
      ]
     },
     "execution_count": 63,
     "metadata": {},
     "output_type": "execute_result"
    }
   ],
   "source": [
    "final = np.concatenate([df2016.to_numpy(), df2014.to_numpy()], axis = 1)\n",
    "final.shape"
   ]
  },
  {
   "cell_type": "code",
   "execution_count": 64,
   "metadata": {},
   "outputs": [],
   "source": [
    "y = df2018['score']"
   ]
  },
  {
   "cell_type": "code",
   "execution_count": 65,
   "metadata": {},
   "outputs": [],
   "source": [
    "data_dmatrix = xgb.DMatrix(data=final,label=y)"
   ]
  },
  {
   "cell_type": "code",
   "execution_count": 66,
   "metadata": {},
   "outputs": [],
   "source": [
    "X_train, X_test, y_train, y_test = train_test_split(final, y, test_size=0.1, random_state=170)\n",
    "\n",
    "#don't use split, just assign them\n",
    "#X_train = 2012 and 2014 data\n",
    "#X_test = 2014 and 2016 data\n",
    "#y_train = 2016 scores\n",
    "#y_test = 2018 scores"
   ]
  },
  {
   "cell_type": "code",
   "execution_count": 67,
   "metadata": {},
   "outputs": [],
   "source": [
    "xg_reg = xgb.XGBRegressor(objective ='reg:linear', colsample_bytree = 0.3, learning_rate = 0.1,\n",
    "                max_depth = 5, alpha = 10, n_estimators = 10)"
   ]
  },
  {
   "cell_type": "code",
   "execution_count": 76,
   "metadata": {},
   "outputs": [
    {
     "name": "stdout",
     "output_type": "stream",
     "text": [
      "[16:13:11] WARNING: /Users/travis/build/dmlc/xgboost/src/objective/regression_obj.cu:174: reg:linear is now deprecated in favor of reg:squarederror.\n",
      "[16:13:11] WARNING: /Users/travis/build/dmlc/xgboost/src/objective/regression_obj.cu:174: reg:linear is now deprecated in favor of reg:squarederror.\n"
     ]
    }
   ],
   "source": [
    "xg_reg.fit(X_train,y_train)\n",
    "\n",
    "preds = xg_reg.predict(final) #this outputting 2018 so if i want to predict 2020, then use 2016 and 2018 data"
   ]
  },
  {
   "cell_type": "code",
   "execution_count": 78,
   "metadata": {},
   "outputs": [
    {
     "name": "stdout",
     "output_type": "stream",
     "text": [
      "[10.345287  25.277203  26.673428  ...  9.46321    0.5408283  0.5408283]\n"
     ]
    }
   ],
   "source": [
    "print(preds)"
   ]
  },
  {
   "cell_type": "code",
   "execution_count": 69,
   "metadata": {},
   "outputs": [
    {
     "name": "stdout",
     "output_type": "stream",
     "text": [
      "RMSE: 10.642585\n"
     ]
    }
   ],
   "source": [
    "rmse = np.sqrt(mean_squared_error(y_test, preds)) #this should be 2018\n",
    "print(\"RMSE: %f\" % (rmse))"
   ]
  },
  {
   "cell_type": "code",
   "execution_count": 72,
   "metadata": {},
   "outputs": [
    {
     "name": "stdout",
     "output_type": "stream",
     "text": [
      "[16:02:19] WARNING: /Users/travis/build/dmlc/xgboost/src/objective/regression_obj.cu:174: reg:linear is now deprecated in favor of reg:squarederror.\n",
      "[16:02:19] WARNING: /Users/travis/build/dmlc/xgboost/src/objective/regression_obj.cu:174: reg:linear is now deprecated in favor of reg:squarederror.\n",
      "[16:02:19] WARNING: /Users/travis/build/dmlc/xgboost/src/objective/regression_obj.cu:174: reg:linear is now deprecated in favor of reg:squarederror.\n"
     ]
    }
   ],
   "source": [
    "params = {\"objective\":\"reg:linear\",'colsample_bytree': 0.3,'learning_rate': 0.1,\n",
    "                'max_depth': 5, 'alpha': 10}\n",
    "\n",
    "cv_results = xgb.cv(dtrain=data_dmatrix, params=params, nfold=3,\n",
    "                    num_boost_round=100,early_stopping_rounds=10,metrics=\"rmse\", seed=170)"
   ]
  },
  {
   "cell_type": "code",
   "execution_count": 73,
   "metadata": {},
   "outputs": [
    {
     "name": "stdout",
     "output_type": "stream",
     "text": [
      "    train-rmse-mean  train-rmse-std  test-rmse-mean  test-rmse-std\n",
      "0         27.125599        0.152796       27.141649       0.345074\n",
      "1         24.483765        0.139472       24.509596       0.312929\n",
      "2         22.102930        0.128729       22.133384       0.286921\n",
      "3         19.967129        0.119751       20.004251       0.261701\n",
      "4         18.042458        0.108152       18.091891       0.244328\n",
      "..              ...             ...             ...            ...\n",
      "95         1.204510        0.007932        2.162026       0.259684\n",
      "96         1.200571        0.007273        2.160695       0.259135\n",
      "97         1.196606        0.006896        2.160219       0.259538\n",
      "98         1.191295        0.007231        2.159124       0.258978\n",
      "99         1.186768        0.005943        2.157475       0.258611\n",
      "\n",
      "[100 rows x 4 columns]\n"
     ]
    }
   ],
   "source": [
    "print(cv_results)\n",
    "#show RMSE for within the years and the future"
   ]
  }
 ],
 "metadata": {
  "kernelspec": {
   "display_name": "UBS",
   "language": "python",
   "name": "ubs"
  },
  "language_info": {
   "codemirror_mode": {
    "name": "ipython",
    "version": 3
   },
   "file_extension": ".py",
   "mimetype": "text/x-python",
   "name": "python",
   "nbconvert_exporter": "python",
   "pygments_lexer": "ipython3",
   "version": "3.7.4"
  }
 },
 "nbformat": 4,
 "nbformat_minor": 2
}
