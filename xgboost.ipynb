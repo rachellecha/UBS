{
 "metadata": {
  "language_info": {
   "codemirror_mode": {
    "name": "ipython",
    "version": 3
   },
   "file_extension": ".py",
   "mimetype": "text/x-python",
   "name": "python",
   "nbconvert_exporter": "python",
   "pygments_lexer": "ipython3",
   "version": "3.8.0-final"
  },
  "orig_nbformat": 2,
  "kernelspec": {
   "name": "Python 3.8.0 64-bit",
   "display_name": "Python 3.8.0 64-bit",
   "metadata": {
    "interpreter": {
     "hash": "5b54f8547c6f7baff2eba263a1f73408582f7eb97e96d235f1da720852235ff3"
    }
   }
  }
 },
 "nbformat": 4,
 "nbformat_minor": 2,
 "cells": [
  {
   "cell_type": "code",
   "execution_count": 70,
   "metadata": {},
   "outputs": [],
   "source": [
    "import pandas as pd\n",
    "import numpy as np\n",
    "import xgboost as xgb\n",
    "from sklearn import preprocessing\n",
    "from sklearn.metrics import mean_squared_error\n",
    "from sklearn.model_selection import train_test_split"
   ]
  },
  {
   "cell_type": "code",
   "execution_count": 71,
   "metadata": {},
   "outputs": [],
   "source": [
    "data2014 = pd.read_csv(\"finalized/2014-scores.csv\")\n",
    "data2016 = pd.read_csv(\"finalized/2016-scores.csv\")\n",
    "data2018 = pd.read_csv(\"finalized/2018-scores.csv\")\n",
    "\n",
    "df2018 = data2018[data2018.columns.difference(['census_tract'])]\n",
    "df2016 = data2016[data2016.columns.difference(['census_tract'])]\n",
    "df2014 = data2014[data2014.columns.difference(['census_tract'])]"
   ]
  },
  {
   "cell_type": "code",
   "execution_count": 72,
   "metadata": {},
   "outputs": [
    {
     "output_type": "execute_result",
     "data": {
      "text/plain": [
       "   full_name  associates  bachelors       car  diff_countyHouse  \\\n",
       "0          0   -1.211784  -1.253158 -1.226062         -0.637187   \n",
       "1          1    0.709789  -0.520335  1.311203          1.009952   \n",
       "2          2    0.017033   0.875323  0.992570         -0.008897   \n",
       "3          3   -0.733453  -1.115239 -0.615080         -0.722091   \n",
       "4          4    2.466419   0.780633  1.719419         -0.382475   \n",
       "\n",
       "   diff_countyRent  diff_stateHouse  diff_stateRent  health_ins  house_val  \\\n",
       "0        -0.476067        -0.591463        0.118601   -1.198725  -0.945236   \n",
       "1         0.500331        -0.684851       -0.515725    1.340113  -0.540658   \n",
       "2         0.048565        -0.684851       -0.515725    1.021282   0.028898   \n",
       "3        -0.476067        -0.684851       -0.083844   -0.587365  -1.241689   \n",
       "4         3.633549        -0.428033       -0.029859    1.748581  -0.072119   \n",
       "\n",
       "    museums  pharmacies  population   poverty  self_income      score  \n",
       "0  0.312933   -0.308789   -1.226062  0.901790    -1.038599  13.435532  \n",
       "1 -0.125130    1.764868    1.311203  1.532821    -0.371905  41.527496  \n",
       "2 -0.709213    0.579921    0.992570  0.155624    -0.421658  37.072678  \n",
       "3  1.335079   -0.308789   -0.615080  1.083350    -1.366971  19.201547  \n",
       "4 -0.417171    0.283684    1.719419  0.075914     1.130645  48.512330  "
      ],
      "text/html": "<div>\n<style scoped>\n    .dataframe tbody tr th:only-of-type {\n        vertical-align: middle;\n    }\n\n    .dataframe tbody tr th {\n        vertical-align: top;\n    }\n\n    .dataframe thead th {\n        text-align: right;\n    }\n</style>\n<table border=\"1\" class=\"dataframe\">\n  <thead>\n    <tr style=\"text-align: right;\">\n      <th></th>\n      <th>full_name</th>\n      <th>associates</th>\n      <th>bachelors</th>\n      <th>car</th>\n      <th>diff_countyHouse</th>\n      <th>diff_countyRent</th>\n      <th>diff_stateHouse</th>\n      <th>diff_stateRent</th>\n      <th>health_ins</th>\n      <th>house_val</th>\n      <th>museums</th>\n      <th>pharmacies</th>\n      <th>population</th>\n      <th>poverty</th>\n      <th>self_income</th>\n      <th>score</th>\n    </tr>\n  </thead>\n  <tbody>\n    <tr>\n      <th>0</th>\n      <td>0</td>\n      <td>-1.211784</td>\n      <td>-1.253158</td>\n      <td>-1.226062</td>\n      <td>-0.637187</td>\n      <td>-0.476067</td>\n      <td>-0.591463</td>\n      <td>0.118601</td>\n      <td>-1.198725</td>\n      <td>-0.945236</td>\n      <td>0.312933</td>\n      <td>-0.308789</td>\n      <td>-1.226062</td>\n      <td>0.901790</td>\n      <td>-1.038599</td>\n      <td>13.435532</td>\n    </tr>\n    <tr>\n      <th>1</th>\n      <td>1</td>\n      <td>0.709789</td>\n      <td>-0.520335</td>\n      <td>1.311203</td>\n      <td>1.009952</td>\n      <td>0.500331</td>\n      <td>-0.684851</td>\n      <td>-0.515725</td>\n      <td>1.340113</td>\n      <td>-0.540658</td>\n      <td>-0.125130</td>\n      <td>1.764868</td>\n      <td>1.311203</td>\n      <td>1.532821</td>\n      <td>-0.371905</td>\n      <td>41.527496</td>\n    </tr>\n    <tr>\n      <th>2</th>\n      <td>2</td>\n      <td>0.017033</td>\n      <td>0.875323</td>\n      <td>0.992570</td>\n      <td>-0.008897</td>\n      <td>0.048565</td>\n      <td>-0.684851</td>\n      <td>-0.515725</td>\n      <td>1.021282</td>\n      <td>0.028898</td>\n      <td>-0.709213</td>\n      <td>0.579921</td>\n      <td>0.992570</td>\n      <td>0.155624</td>\n      <td>-0.421658</td>\n      <td>37.072678</td>\n    </tr>\n    <tr>\n      <th>3</th>\n      <td>3</td>\n      <td>-0.733453</td>\n      <td>-1.115239</td>\n      <td>-0.615080</td>\n      <td>-0.722091</td>\n      <td>-0.476067</td>\n      <td>-0.684851</td>\n      <td>-0.083844</td>\n      <td>-0.587365</td>\n      <td>-1.241689</td>\n      <td>1.335079</td>\n      <td>-0.308789</td>\n      <td>-0.615080</td>\n      <td>1.083350</td>\n      <td>-1.366971</td>\n      <td>19.201547</td>\n    </tr>\n    <tr>\n      <th>4</th>\n      <td>4</td>\n      <td>2.466419</td>\n      <td>0.780633</td>\n      <td>1.719419</td>\n      <td>-0.382475</td>\n      <td>3.633549</td>\n      <td>-0.428033</td>\n      <td>-0.029859</td>\n      <td>1.748581</td>\n      <td>-0.072119</td>\n      <td>-0.417171</td>\n      <td>0.283684</td>\n      <td>1.719419</td>\n      <td>0.075914</td>\n      <td>1.130645</td>\n      <td>48.512330</td>\n    </tr>\n  </tbody>\n</table>\n</div>"
     },
     "metadata": {},
     "execution_count": 72
    }
   ],
   "source": [
    "df.head()"
   ]
  },
  {
   "cell_type": "code",
   "execution_count": 73,
   "metadata": {},
   "outputs": [],
   "source": [
    "le = preprocessing.LabelEncoder()\n",
    "df2018['full_name'] = le.fit_transform(df2018['full_name'])\n",
    "df2016['full_name'] = le.fit_transform(df2016['full_name'])\n",
    "df2014['full_name'] = le.fit_transform(df2014['full_name'])\n"
   ]
  },
  {
   "cell_type": "code",
   "execution_count": 74,
   "metadata": {},
   "outputs": [],
   "source": [
    "df2018 = df2018[['full_name', 'associates', 'bachelors', \"car\", \"diff_countyHouse\", \"diff_countyRent\", \"diff_stateHouse\", \"diff_stateRent\", \"health_ins\", \"house_val\", \"museums\", \"pharmacies\", \"population\", \"poverty\", \"self_income\", \"score\"]]\n",
    "df2016 = df2016[['full_name', 'associates', 'bachelors', \"car\", \"diff_countyHouse\", \"diff_countyRent\", \"diff_stateHouse\", \"diff_stateRent\", \"health_ins\", \"house_val\", \"museums\", \"pharmacies\", \"population\", \"poverty\", \"self_income\", \"score\"]]\n",
    "df2014 = df2014[['full_name', 'associates', 'bachelors', \"car\", \"diff_countyHouse\", \"diff_countyRent\", \"diff_stateHouse\", \"diff_stateRent\", \"health_ins\", \"house_val\", \"museums\", \"pharmacies\", \"population\", \"poverty\", \"self_income\", \"score\"]]"
   ]
  },
  {
   "cell_type": "code",
   "execution_count": 78,
   "metadata": {},
   "outputs": [
    {
     "output_type": "execute_result",
     "data": {
      "text/plain": [
       "   full_name  associates  bachelors       car  diff_countyHouse  \\\n",
       "0          0   -1.124448  -1.184470 -1.138599         -0.619780   \n",
       "1          1    0.070396  -0.318310  1.072695          1.396378   \n",
       "2          2    1.393259   0.447909  1.146762          0.013870   \n",
       "3          3   -1.312210  -0.942945 -0.654476         -0.696586   \n",
       "4          4    2.016284   1.118351  1.993709         -0.696586   \n",
       "\n",
       "   diff_countyRent  diff_stateHouse  diff_stateRent  health_ins  house_val  \\\n",
       "0        -0.564730        -0.558350        0.067856   -1.112696  -0.763971   \n",
       "1        -0.718012        -0.691798       -0.408449    1.101662  -0.529140   \n",
       "2         0.753498        -0.398213        1.169311    1.175742  -0.182118   \n",
       "3        -0.334806        -0.691798       -0.155412   -0.625806  -1.297428   \n",
       "4         5.275326        -0.344834        0.425084    2.022835  -0.024831   \n",
       "\n",
       "    museums  pharmacies  population   poverty  self_income      score  \n",
       "0  0.312683   -0.308789   -1.138599  0.844990    -0.941716  15.044506  \n",
       "1 -0.125641    1.764868    1.072695  1.804083    -0.486864  38.986704  \n",
       "2 -0.710074    0.579921    1.146762  0.481123     0.278114  41.133118  \n",
       "3  1.335440   -0.308789   -0.654476  0.680934    -1.262179  18.806623  \n",
       "4 -0.417858    0.283684    1.993709  0.622042     0.495202  50.833626  "
      ],
      "text/html": "<div>\n<style scoped>\n    .dataframe tbody tr th:only-of-type {\n        vertical-align: middle;\n    }\n\n    .dataframe tbody tr th {\n        vertical-align: top;\n    }\n\n    .dataframe thead th {\n        text-align: right;\n    }\n</style>\n<table border=\"1\" class=\"dataframe\">\n  <thead>\n    <tr style=\"text-align: right;\">\n      <th></th>\n      <th>full_name</th>\n      <th>associates</th>\n      <th>bachelors</th>\n      <th>car</th>\n      <th>diff_countyHouse</th>\n      <th>diff_countyRent</th>\n      <th>diff_stateHouse</th>\n      <th>diff_stateRent</th>\n      <th>health_ins</th>\n      <th>house_val</th>\n      <th>museums</th>\n      <th>pharmacies</th>\n      <th>population</th>\n      <th>poverty</th>\n      <th>self_income</th>\n      <th>score</th>\n    </tr>\n  </thead>\n  <tbody>\n    <tr>\n      <th>0</th>\n      <td>0</td>\n      <td>-1.124448</td>\n      <td>-1.184470</td>\n      <td>-1.138599</td>\n      <td>-0.619780</td>\n      <td>-0.564730</td>\n      <td>-0.558350</td>\n      <td>0.067856</td>\n      <td>-1.112696</td>\n      <td>-0.763971</td>\n      <td>0.312683</td>\n      <td>-0.308789</td>\n      <td>-1.138599</td>\n      <td>0.844990</td>\n      <td>-0.941716</td>\n      <td>15.044506</td>\n    </tr>\n    <tr>\n      <th>1</th>\n      <td>1</td>\n      <td>0.070396</td>\n      <td>-0.318310</td>\n      <td>1.072695</td>\n      <td>1.396378</td>\n      <td>-0.718012</td>\n      <td>-0.691798</td>\n      <td>-0.408449</td>\n      <td>1.101662</td>\n      <td>-0.529140</td>\n      <td>-0.125641</td>\n      <td>1.764868</td>\n      <td>1.072695</td>\n      <td>1.804083</td>\n      <td>-0.486864</td>\n      <td>38.986704</td>\n    </tr>\n    <tr>\n      <th>2</th>\n      <td>2</td>\n      <td>1.393259</td>\n      <td>0.447909</td>\n      <td>1.146762</td>\n      <td>0.013870</td>\n      <td>0.753498</td>\n      <td>-0.398213</td>\n      <td>1.169311</td>\n      <td>1.175742</td>\n      <td>-0.182118</td>\n      <td>-0.710074</td>\n      <td>0.579921</td>\n      <td>1.146762</td>\n      <td>0.481123</td>\n      <td>0.278114</td>\n      <td>41.133118</td>\n    </tr>\n    <tr>\n      <th>3</th>\n      <td>3</td>\n      <td>-1.312210</td>\n      <td>-0.942945</td>\n      <td>-0.654476</td>\n      <td>-0.696586</td>\n      <td>-0.334806</td>\n      <td>-0.691798</td>\n      <td>-0.155412</td>\n      <td>-0.625806</td>\n      <td>-1.297428</td>\n      <td>1.335440</td>\n      <td>-0.308789</td>\n      <td>-0.654476</td>\n      <td>0.680934</td>\n      <td>-1.262179</td>\n      <td>18.806623</td>\n    </tr>\n    <tr>\n      <th>4</th>\n      <td>4</td>\n      <td>2.016284</td>\n      <td>1.118351</td>\n      <td>1.993709</td>\n      <td>-0.696586</td>\n      <td>5.275326</td>\n      <td>-0.344834</td>\n      <td>0.425084</td>\n      <td>2.022835</td>\n      <td>-0.024831</td>\n      <td>-0.417858</td>\n      <td>0.283684</td>\n      <td>1.993709</td>\n      <td>0.622042</td>\n      <td>0.495202</td>\n      <td>50.833626</td>\n    </tr>\n  </tbody>\n</table>\n</div>"
     },
     "metadata": {},
     "execution_count": 78
    }
   ],
   "source": [
    "df2016.head()"
   ]
  },
  {
   "cell_type": "code",
   "execution_count": 67,
   "metadata": {},
   "outputs": [
    {
     "output_type": "stream",
     "name": "stdout",
     "text": [
      "Index(['full_name', 'associates', 'bachelors', 'car', 'diff_countyHouse',\n       'diff_countyRent', 'diff_stateHouse', 'diff_stateRent', 'health_ins',\n       'house_val', 'museums', 'pharmacies', 'population', 'poverty',\n       'self_income', 'score'],\n      dtype='object')\n(2006, 16)\n"
     ]
    }
   ],
   "source": [
    "print(df2016.columns)\n",
    "print(df2016.shape)"
   ]
  },
  {
   "cell_type": "code",
   "execution_count": 68,
   "metadata": {},
   "outputs": [],
   "source": []
  },
  {
   "cell_type": "code",
   "execution_count": 69,
   "metadata": {},
   "outputs": [],
   "source": []
  },
  {
   "cell_type": "code",
   "execution_count": null,
   "metadata": {},
   "outputs": [],
   "source": []
  }
 ]
}