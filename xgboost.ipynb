{
 "metadata": {
  "language_info": {
   "codemirror_mode": {
    "name": "ipython",
    "version": 3
   },
   "file_extension": ".py",
   "mimetype": "text/x-python",
   "name": "python",
   "nbconvert_exporter": "python",
   "pygments_lexer": "ipython3",
   "version": "3.8.0-final"
  },
  "orig_nbformat": 2,
  "kernelspec": {
   "name": "Python 3.8.0 64-bit",
   "display_name": "Python 3.8.0 64-bit",
   "metadata": {
    "interpreter": {
     "hash": "5b54f8547c6f7baff2eba263a1f73408582f7eb97e96d235f1da720852235ff3"
    }
   }
  }
 },
 "nbformat": 4,
 "nbformat_minor": 2,
 "cells": [
  {
   "cell_type": "code",
   "execution_count": 69,
   "metadata": {},
   "outputs": [],
   "source": [
    "import pandas as pd\n",
    "import numpy as np\n",
    "import xgboost as xgb\n",
    "from sklearn import preprocessing\n",
    "from sklearn.metrics import mean_squared_error\n",
    "from sklearn.model_selection import train_test_split"
   ]
  },
  {
   "cell_type": "code",
   "execution_count": 70,
   "metadata": {},
   "outputs": [],
   "source": [
    "data2014 = pd.read_csv(\"finalized/2014-scores.csv\")\n",
    "data2016 = pd.read_csv(\"finalized/2016-scores.csv\")\n",
    "data2018 = pd.read_csv(\"finalized/2018-scores.csv\")\n",
    "\n",
    "df2018 = data2018[data2018.columns.difference(['census_tract'])]\n",
    "df2016 = data2016[data2016.columns.difference(['census_tract'])]\n",
    "df2014 = data2014[data2014.columns.difference(['census_tract'])]"
   ]
  },
  {
   "cell_type": "code",
   "execution_count": 71,
   "metadata": {},
   "outputs": [],
   "source": [
    "df2018['year'] = 2018\n",
    "df2016['year'] = 2016\n",
    "df2014['year'] = 2014"
   ]
  },
  {
   "cell_type": "code",
   "execution_count": 72,
   "metadata": {},
   "outputs": [
    {
     "output_type": "execute_result",
     "data": {
      "text/plain": [
       "   associates  bachelors       car  diff_countyHouse  diff_countyRent  \\\n",
       "0   -1.211784  -1.253158 -1.226062         -0.637187        -0.476067   \n",
       "1    0.709789  -0.520335  1.311203          1.009952         0.500331   \n",
       "2    0.017033   0.875323  0.992570         -0.008897         0.048565   \n",
       "3   -0.733453  -1.115239 -0.615080         -0.722091        -0.476067   \n",
       "4    2.466419   0.780633  1.719419         -0.382475         3.633549   \n",
       "\n",
       "   diff_stateHouse  diff_stateRent  \\\n",
       "0        -0.591463        0.118601   \n",
       "1        -0.684851       -0.515725   \n",
       "2        -0.684851       -0.515725   \n",
       "3        -0.684851       -0.083844   \n",
       "4        -0.428033       -0.029859   \n",
       "\n",
       "                                      full_name  health_ins  house_val  \\\n",
       "0   Census Tract 1, Atlantic County, New Jersey   -1.198725  -0.945236   \n",
       "1      Census Tract 1, Essex County, New Jersey    1.340113  -0.540658   \n",
       "2     Census Tract 1, Hudson County, New Jersey    1.021282   0.028898   \n",
       "3     Census Tract 1, Mercer County, New Jersey   -0.587365  -1.241689   \n",
       "4  Census Tract 1, Middlesex County, New Jersey    1.748581  -0.072119   \n",
       "\n",
       "    museums  pharmacies  population   poverty      score  self_income  year  \n",
       "0  0.312933   -0.308789   -1.226062  0.901790  13.435532    -1.038599  2018  \n",
       "1 -0.125130    1.764868    1.311203  1.532821  41.527496    -0.371905  2018  \n",
       "2 -0.709213    0.579921    0.992570  0.155624  37.072678    -0.421658  2018  \n",
       "3  1.335079   -0.308789   -0.615080  1.083350  19.201547    -1.366971  2018  \n",
       "4 -0.417171    0.283684    1.719419  0.075914  48.512330     1.130645  2018  "
      ],
      "text/html": "<div>\n<style scoped>\n    .dataframe tbody tr th:only-of-type {\n        vertical-align: middle;\n    }\n\n    .dataframe tbody tr th {\n        vertical-align: top;\n    }\n\n    .dataframe thead th {\n        text-align: right;\n    }\n</style>\n<table border=\"1\" class=\"dataframe\">\n  <thead>\n    <tr style=\"text-align: right;\">\n      <th></th>\n      <th>associates</th>\n      <th>bachelors</th>\n      <th>car</th>\n      <th>diff_countyHouse</th>\n      <th>diff_countyRent</th>\n      <th>diff_stateHouse</th>\n      <th>diff_stateRent</th>\n      <th>full_name</th>\n      <th>health_ins</th>\n      <th>house_val</th>\n      <th>museums</th>\n      <th>pharmacies</th>\n      <th>population</th>\n      <th>poverty</th>\n      <th>score</th>\n      <th>self_income</th>\n      <th>year</th>\n    </tr>\n  </thead>\n  <tbody>\n    <tr>\n      <th>0</th>\n      <td>-1.211784</td>\n      <td>-1.253158</td>\n      <td>-1.226062</td>\n      <td>-0.637187</td>\n      <td>-0.476067</td>\n      <td>-0.591463</td>\n      <td>0.118601</td>\n      <td>Census Tract 1, Atlantic County, New Jersey</td>\n      <td>-1.198725</td>\n      <td>-0.945236</td>\n      <td>0.312933</td>\n      <td>-0.308789</td>\n      <td>-1.226062</td>\n      <td>0.901790</td>\n      <td>13.435532</td>\n      <td>-1.038599</td>\n      <td>2018</td>\n    </tr>\n    <tr>\n      <th>1</th>\n      <td>0.709789</td>\n      <td>-0.520335</td>\n      <td>1.311203</td>\n      <td>1.009952</td>\n      <td>0.500331</td>\n      <td>-0.684851</td>\n      <td>-0.515725</td>\n      <td>Census Tract 1, Essex County, New Jersey</td>\n      <td>1.340113</td>\n      <td>-0.540658</td>\n      <td>-0.125130</td>\n      <td>1.764868</td>\n      <td>1.311203</td>\n      <td>1.532821</td>\n      <td>41.527496</td>\n      <td>-0.371905</td>\n      <td>2018</td>\n    </tr>\n    <tr>\n      <th>2</th>\n      <td>0.017033</td>\n      <td>0.875323</td>\n      <td>0.992570</td>\n      <td>-0.008897</td>\n      <td>0.048565</td>\n      <td>-0.684851</td>\n      <td>-0.515725</td>\n      <td>Census Tract 1, Hudson County, New Jersey</td>\n      <td>1.021282</td>\n      <td>0.028898</td>\n      <td>-0.709213</td>\n      <td>0.579921</td>\n      <td>0.992570</td>\n      <td>0.155624</td>\n      <td>37.072678</td>\n      <td>-0.421658</td>\n      <td>2018</td>\n    </tr>\n    <tr>\n      <th>3</th>\n      <td>-0.733453</td>\n      <td>-1.115239</td>\n      <td>-0.615080</td>\n      <td>-0.722091</td>\n      <td>-0.476067</td>\n      <td>-0.684851</td>\n      <td>-0.083844</td>\n      <td>Census Tract 1, Mercer County, New Jersey</td>\n      <td>-0.587365</td>\n      <td>-1.241689</td>\n      <td>1.335079</td>\n      <td>-0.308789</td>\n      <td>-0.615080</td>\n      <td>1.083350</td>\n      <td>19.201547</td>\n      <td>-1.366971</td>\n      <td>2018</td>\n    </tr>\n    <tr>\n      <th>4</th>\n      <td>2.466419</td>\n      <td>0.780633</td>\n      <td>1.719419</td>\n      <td>-0.382475</td>\n      <td>3.633549</td>\n      <td>-0.428033</td>\n      <td>-0.029859</td>\n      <td>Census Tract 1, Middlesex County, New Jersey</td>\n      <td>1.748581</td>\n      <td>-0.072119</td>\n      <td>-0.417171</td>\n      <td>0.283684</td>\n      <td>1.719419</td>\n      <td>0.075914</td>\n      <td>48.512330</td>\n      <td>1.130645</td>\n      <td>2018</td>\n    </tr>\n  </tbody>\n</table>\n</div>"
     },
     "metadata": {},
     "execution_count": 72
    }
   ],
   "source": [
    "df2018.head()"
   ]
  },
  {
   "cell_type": "code",
   "execution_count": 73,
   "metadata": {},
   "outputs": [],
   "source": [
    "le = preprocessing.LabelEncoder()\n",
    "df2018['full_name'] = le.fit_transform(df2018['full_name'])\n",
    "df2016['full_name'] = le.fit_transform(df2016['full_name'])\n",
    "df2014['full_name'] = le.fit_transform(df2014['full_name'])\n"
   ]
  },
  {
   "cell_type": "code",
   "execution_count": 74,
   "metadata": {},
   "outputs": [],
   "source": [
    "df2018 = df2018[['full_name', 'year', 'associates', 'bachelors', \"car\", \"diff_countyHouse\", \"diff_countyRent\", \"diff_stateHouse\", \"diff_stateRent\", \"health_ins\", \"house_val\", \"museums\", \"pharmacies\", \"population\", \"poverty\", \"self_income\", \"score\"]]\n",
    "df2016 = df2016[['full_name', 'year', 'associates', 'bachelors', \"car\", \"diff_countyHouse\", \"diff_countyRent\", \"diff_stateHouse\", \"diff_stateRent\", \"health_ins\", \"house_val\", \"museums\", \"pharmacies\", \"population\", \"poverty\", \"self_income\", \"score\"]]\n",
    "df2014 = df2014[['full_name', 'year', 'associates', 'bachelors', \"car\", \"diff_countyHouse\", \"diff_countyRent\", \"diff_stateHouse\", \"diff_stateRent\", \"health_ins\", \"house_val\", \"museums\", \"pharmacies\", \"population\", \"poverty\", \"self_income\", \"score\"]]\n",
    "\n",
    "df2014 = df2014.drop([2006, 2007])"
   ]
  },
  {
   "cell_type": "code",
   "execution_count": 76,
   "metadata": {},
   "outputs": [
    {
     "output_type": "stream",
     "name": "stdout",
     "text": [
      "Index(['full_name', 'year', 'associates', 'bachelors', 'car',\n       'diff_countyHouse', 'diff_countyRent', 'diff_stateHouse',\n       'diff_stateRent', 'health_ins', 'house_val', 'museums', 'pharmacies',\n       'population', 'poverty', 'self_income', 'score'],\n      dtype='object')\n(2006, 17)\n"
     ]
    }
   ],
   "source": [
    "print(df2016.columns)\n",
    "print(df2014.shape)"
   ]
  },
  {
   "cell_type": "code",
   "execution_count": 78,
   "metadata": {},
   "outputs": [
    {
     "output_type": "execute_result",
     "data": {
      "text/plain": [
       "array([[[ 0.00000000e+00,  2.01800000e+03, -1.21178404e+00, ...,\n",
       "          9.01790290e-01, -1.03859919e+00,  1.34355320e+01],\n",
       "        [ 1.00000000e+00,  2.01800000e+03,  7.09788532e-01, ...,\n",
       "          1.53282142e+00, -3.71904781e-01,  4.15274962e+01],\n",
       "        [ 2.00000000e+00,  2.01800000e+03,  1.70327540e-02, ...,\n",
       "          1.55623660e-01, -4.21658095e-01,  3.70726775e+01],\n",
       "        ...,\n",
       "        [ 2.00300000e+03,  2.01800000e+03, -1.01385382e+00, ...,\n",
       "          1.83467132e-02, -1.07840184e+00,  1.42794998e+01],\n",
       "        [ 2.00400000e+03,  2.01800000e+03, -1.64887995e+00, ...,\n",
       "         -9.97945522e-01, -1.49632968e+00,  7.48487142e-01],\n",
       "        [ 2.00500000e+03,  2.01800000e+03, -1.64887995e+00, ...,\n",
       "         -9.97945522e-01, -1.49632968e+00,  0.00000000e+00]],\n",
       "\n",
       "       [[ 0.00000000e+00,  2.01600000e+03, -1.12444844e+00, ...,\n",
       "          8.44989594e-01, -9.41715506e-01,  1.50445063e+01],\n",
       "        [ 1.00000000e+00,  2.01600000e+03,  7.03955591e-02, ...,\n",
       "          1.80408349e+00, -4.86863928e-01,  3.89867040e+01],\n",
       "        [ 2.00000000e+00,  2.01600000e+03,  1.39325856e+00, ...,\n",
       "          4.81122831e-01,  2.78113727e-01,  4.11331178e+01],\n",
       "        ...,\n",
       "        [ 2.00300000e+03,  2.01600000e+03, -6.03837841e-01, ...,\n",
       "         -5.22139861e-01, -1.08644101e+00,  1.15194557e+01],\n",
       "        [ 2.00400000e+03,  2.01600000e+03, -1.66212824e+00, ...,\n",
       "         -9.95376979e-01, -1.51027998e+00,  1.38128328e+00],\n",
       "        [ 2.00500000e+03,  2.01600000e+03, -1.66212824e+00, ...,\n",
       "         -9.95376979e-01, -1.51027998e+00,  6.45763771e-01]],\n",
       "\n",
       "       [[ 0.00000000e+00,  2.01400000e+03, -7.69379778e-01, ...,\n",
       "          7.04919015e-01, -9.93648922e-01,  1.57215238e+01],\n",
       "        [ 1.00000000e+00,  2.01400000e+03, -2.26130543e-01, ...,\n",
       "          1.64197817e+00, -3.38908124e-01,  3.98460913e+01],\n",
       "        [ 2.00000000e+00,  2.01400000e+03,  4.63709755e-01, ...,\n",
       "          3.47845815e-01,  1.01086521e+00,  4.58376737e+01],\n",
       "        ...,\n",
       "        [ 2.00300000e+03,  2.01400000e+03, -6.83149741e-01, ...,\n",
       "          2.28133412e-01, -1.13467002e+00,  1.19769426e+01],\n",
       "        [ 2.00400000e+03,  2.01400000e+03, -1.63168015e+00, ...,\n",
       "         -9.60734584e-01, -1.44693101e+00,  1.38362058e+00],\n",
       "        [ 2.00500000e+03,  2.01400000e+03, -1.63168015e+00, ...,\n",
       "         -9.60734584e-01, -1.44693101e+00,  6.20876866e-01]]])"
      ]
     },
     "metadata": {},
     "execution_count": 78
    }
   ],
   "source": [
    "np.array([df2018.to_numpy(), df2016.to_numpy(), df2014.to_numpy()])"
   ]
  },
  {
   "cell_type": "code",
   "execution_count": null,
   "metadata": {},
   "outputs": [],
   "source": []
  }
 ]
}