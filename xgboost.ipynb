{
 "cells": [
  {
   "cell_type": "code",
   "execution_count": 55,
   "metadata": {},
   "outputs": [],
   "source": [
    "import pandas as pd\n",
    "import numpy as np\n",
    "import xgboost as xgb\n",
    "from sklearn import preprocessing\n",
    "from sklearn.metrics import mean_squared_error\n",
    "from sklearn.model_selection import train_test_split"
   ]
  },
  {
   "cell_type": "code",
   "execution_count": 56,
   "metadata": {},
   "outputs": [],
   "source": [
    "data2012 = pd.read_csv(\"finalized/2012-scores.csv\")\n",
    "data2014 = pd.read_csv(\"finalized/2014-scores.csv\")\n",
    "data2016 = pd.read_csv(\"finalized/2016-scores.csv\")\n",
    "data2018 = pd.read_csv(\"finalized/2018-scores.csv\")\n",
    "\n",
    "df2018 = data2018[data2018.columns.difference(['census_tract', 'full_name', 'score'])]\n",
    "df2016 = data2016[data2016.columns.difference(['census_tract', 'full_name', 'score'])]\n",
    "df2014 = data2014[data2014.columns.difference(['census_tract', 'full_name', 'score'])]\n",
    "df2012 = data2012[data2012.columns.difference(['census_tract', 'full_name', 'score'])]"
   ]
  },
  {
   "cell_type": "code",
   "execution_count": 57,
   "metadata": {},
   "outputs": [],
   "source": [
    "df2018 = df2018.rename(columns={\"associates\": \"associates2018\", \"bachelors\": \"bachelors2018\",\"car\": \"car2018\",\"diff_countyHouse\": \"diff_countyHouse2018\",\"diff_countyRent\": \"diff_countyRent2018\",\"diff_stateHouse\": \"diff_stateHouse2018\",\"diff_stateRent\": \"diff_stateRent2018\",\"health_ins\": \"health_ins2018\",\"house_val\": \"house_val2018\",\"museums\": \"museums2018\",\"pharmacies\": \"pharmacies2018\",\"population\": \"population2018\",\"poverty\": \"poverty2018\",\"self_income\": \"self_income2018\"})"
   ]
  },
  {
   "cell_type": "code",
   "execution_count": 58,
   "metadata": {},
   "outputs": [],
   "source": [
    "rename = lambda year, dataframe: dict(zip(list(dataframe.columns), [s + str(year) for s in list(dataframe.columns)]))"
   ]
  },
  {
   "cell_type": "code",
   "execution_count": 59,
   "metadata": {},
   "outputs": [],
   "source": [
    "df2016 = df2016.rename(columns=rename(2016, df2016))\n",
    "df2014 = df2014.rename(columns=rename(2014, df2014))\n",
    "df2012 = df2012.rename(columns=rename(2012, df2012))"
   ]
  },
  {
   "cell_type": "code",
   "execution_count": 60,
   "metadata": {},
   "outputs": [
    {
     "data": {
      "text/html": [
       "<div>\n",
       "<style scoped>\n",
       "    .dataframe tbody tr th:only-of-type {\n",
       "        vertical-align: middle;\n",
       "    }\n",
       "\n",
       "    .dataframe tbody tr th {\n",
       "        vertical-align: top;\n",
       "    }\n",
       "\n",
       "    .dataframe thead th {\n",
       "        text-align: right;\n",
       "    }\n",
       "</style>\n",
       "<table border=\"1\" class=\"dataframe\">\n",
       "  <thead>\n",
       "    <tr style=\"text-align: right;\">\n",
       "      <th></th>\n",
       "      <th>associates2012</th>\n",
       "      <th>bachelors2012</th>\n",
       "      <th>car2012</th>\n",
       "      <th>diff_countyHouse2012</th>\n",
       "      <th>diff_countyRent2012</th>\n",
       "      <th>diff_stateHouse2012</th>\n",
       "      <th>diff_stateRent2012</th>\n",
       "      <th>health_ins2012</th>\n",
       "      <th>house_val2012</th>\n",
       "      <th>museums2012</th>\n",
       "      <th>pharmacies2012</th>\n",
       "      <th>population2012</th>\n",
       "      <th>poverty2012</th>\n",
       "      <th>self_income2012</th>\n",
       "    </tr>\n",
       "  </thead>\n",
       "  <tbody>\n",
       "    <tr>\n",
       "      <th>0</th>\n",
       "      <td>-0.260158</td>\n",
       "      <td>-1.225430</td>\n",
       "      <td>-1.022597</td>\n",
       "      <td>-0.687622</td>\n",
       "      <td>-0.634448</td>\n",
       "      <td>-0.541328</td>\n",
       "      <td>-0.343364</td>\n",
       "      <td>-0.991707</td>\n",
       "      <td>-0.732542</td>\n",
       "      <td>0.313309</td>\n",
       "      <td>-0.309224</td>\n",
       "      <td>-1.022597</td>\n",
       "      <td>0.403266</td>\n",
       "      <td>-0.999574</td>\n",
       "    </tr>\n",
       "    <tr>\n",
       "      <th>1</th>\n",
       "      <td>0.124391</td>\n",
       "      <td>-0.108967</td>\n",
       "      <td>1.060296</td>\n",
       "      <td>-0.687622</td>\n",
       "      <td>-0.634448</td>\n",
       "      <td>-0.649777</td>\n",
       "      <td>-0.419980</td>\n",
       "      <td>1.091008</td>\n",
       "      <td>-0.315339</td>\n",
       "      <td>-0.125061</td>\n",
       "      <td>1.764336</td>\n",
       "      <td>1.060296</td>\n",
       "      <td>0.957412</td>\n",
       "      <td>-0.788339</td>\n",
       "    </tr>\n",
       "    <tr>\n",
       "      <th>2</th>\n",
       "      <td>-0.313816</td>\n",
       "      <td>0.530603</td>\n",
       "      <td>1.251066</td>\n",
       "      <td>0.862191</td>\n",
       "      <td>-0.148289</td>\n",
       "      <td>0.353379</td>\n",
       "      <td>1.618008</td>\n",
       "      <td>1.281762</td>\n",
       "      <td>-0.169846</td>\n",
       "      <td>-0.709554</td>\n",
       "      <td>0.579444</td>\n",
       "      <td>1.251066</td>\n",
       "      <td>0.888422</td>\n",
       "      <td>1.585548</td>\n",
       "    </tr>\n",
       "    <tr>\n",
       "      <th>3</th>\n",
       "      <td>-0.984541</td>\n",
       "      <td>-1.234344</td>\n",
       "      <td>-0.768979</td>\n",
       "      <td>-0.522308</td>\n",
       "      <td>-0.091093</td>\n",
       "      <td>-0.649777</td>\n",
       "      <td>-0.588535</td>\n",
       "      <td>-0.738111</td>\n",
       "      <td>-1.585602</td>\n",
       "      <td>1.336172</td>\n",
       "      <td>-0.309224</td>\n",
       "      <td>-0.768979</td>\n",
       "      <td>0.895098</td>\n",
       "      <td>-1.210810</td>\n",
       "    </tr>\n",
       "    <tr>\n",
       "      <th>4</th>\n",
       "      <td>1.215437</td>\n",
       "      <td>0.925042</td>\n",
       "      <td>1.627043</td>\n",
       "      <td>-0.687622</td>\n",
       "      <td>-0.405667</td>\n",
       "      <td>-0.649777</td>\n",
       "      <td>-0.588535</td>\n",
       "      <td>1.657707</td>\n",
       "      <td>0.002382</td>\n",
       "      <td>-0.417308</td>\n",
       "      <td>0.283222</td>\n",
       "      <td>1.627043</td>\n",
       "      <td>-0.889740</td>\n",
       "      <td>1.112783</td>\n",
       "    </tr>\n",
       "  </tbody>\n",
       "</table>\n",
       "</div>"
      ],
      "text/plain": [
       "   associates2012  bachelors2012   car2012  diff_countyHouse2012  \\\n",
       "0       -0.260158      -1.225430 -1.022597             -0.687622   \n",
       "1        0.124391      -0.108967  1.060296             -0.687622   \n",
       "2       -0.313816       0.530603  1.251066              0.862191   \n",
       "3       -0.984541      -1.234344 -0.768979             -0.522308   \n",
       "4        1.215437       0.925042  1.627043             -0.687622   \n",
       "\n",
       "   diff_countyRent2012  diff_stateHouse2012  diff_stateRent2012  \\\n",
       "0            -0.634448            -0.541328           -0.343364   \n",
       "1            -0.634448            -0.649777           -0.419980   \n",
       "2            -0.148289             0.353379            1.618008   \n",
       "3            -0.091093            -0.649777           -0.588535   \n",
       "4            -0.405667            -0.649777           -0.588535   \n",
       "\n",
       "   health_ins2012  house_val2012  museums2012  pharmacies2012  population2012  \\\n",
       "0       -0.991707      -0.732542     0.313309       -0.309224       -1.022597   \n",
       "1        1.091008      -0.315339    -0.125061        1.764336        1.060296   \n",
       "2        1.281762      -0.169846    -0.709554        0.579444        1.251066   \n",
       "3       -0.738111      -1.585602     1.336172       -0.309224       -0.768979   \n",
       "4        1.657707       0.002382    -0.417308        0.283222        1.627043   \n",
       "\n",
       "   poverty2012  self_income2012  \n",
       "0     0.403266        -0.999574  \n",
       "1     0.957412        -0.788339  \n",
       "2     0.888422         1.585548  \n",
       "3     0.895098        -1.210810  \n",
       "4    -0.889740         1.112783  "
      ]
     },
     "execution_count": 60,
     "metadata": {},
     "output_type": "execute_result"
    }
   ],
   "source": [
    "df2012.head()"
   ]
  },
  {
   "cell_type": "code",
   "execution_count": 61,
   "metadata": {},
   "outputs": [],
   "source": [
    "df2014 = df2014.drop([2006, 2007])\n"
   ]
  },
  {
   "cell_type": "code",
   "execution_count": 62,
   "metadata": {},
   "outputs": [],
   "source": [
    "df2012 = df2012.drop([2006])"
   ]
  },
  {
   "cell_type": "code",
   "execution_count": 63,
   "metadata": {},
   "outputs": [
    {
     "name": "stdout",
     "output_type": "stream",
     "text": [
      "Index(['associates2012', 'bachelors2012', 'car2012', 'diff_countyHouse2012',\n",
      "       'diff_countyRent2012', 'diff_stateHouse2012', 'diff_stateRent2012',\n",
      "       'health_ins2012', 'house_val2012', 'museums2012', 'pharmacies2012',\n",
      "       'population2012', 'poverty2012', 'self_income2012'],\n",
      "      dtype='object')\n",
      "(2006, 14)\n"
     ]
    }
   ],
   "source": [
    "print(df2012.columns)\n",
    "print(df2012.shape)"
   ]
  },
  {
   "cell_type": "code",
   "execution_count": 64,
   "metadata": {},
   "outputs": [],
   "source": [
    "final = np.concatenate([df2016.to_numpy(), df2018.to_numpy()], axis = 1)\n",
    "\n",
    "X_train = np.concatenate([df2012.to_numpy(), df2014.to_numpy()], axis = 1)\n",
    "X_test = np.concatenate([df2014.to_numpy(), df2016.to_numpy()], axis = 1)\n",
    "y_train = data2016['score']\n",
    "y_test = data2018['score']"
   ]
  },
  {
   "cell_type": "code",
   "execution_count": 65,
   "metadata": {},
   "outputs": [],
   "source": [
    "#y = df2018['score']"
   ]
  },
  {
   "cell_type": "code",
   "execution_count": 66,
   "metadata": {},
   "outputs": [],
   "source": [
    "data_dmatrix = xgb.DMatrix(data=final,label=y_test)"
   ]
  },
  {
   "cell_type": "code",
   "execution_count": 67,
   "metadata": {},
   "outputs": [],
   "source": [
    "#X_train, X_test, y_train, y_test = train_test_split(final, y, test_size=0.1, random_state=170)\n",
    "\n",
    "#don't use split, just assign them\n",
    "#X_train = 2012 and 2014 data\n",
    "#X_test = 2014 and 2016 data\n",
    "#y_train = 2016 scores\n",
    "#y_test = 2018 scores"
   ]
  },
  {
   "cell_type": "code",
   "execution_count": 68,
   "metadata": {},
   "outputs": [],
   "source": [
    "xg_reg = xgb.XGBRegressor(objective ='reg:linear', colsample_bytree = 0.3, learning_rate = 0.1,\n",
    "                max_depth = 5, alpha = 10, n_estimators = 10)"
   ]
  },
  {
   "cell_type": "code",
   "execution_count": 69,
   "metadata": {},
   "outputs": [
    {
     "name": "stdout",
     "output_type": "stream",
     "text": [
      "[15:36:25] WARNING: C:/Users/Administrator/workspace/xgboost-win64_release_1.2.0/src/objective/regression_obj.cu:174: reg:linear is now deprecated in favor of reg:squarederror.\n",
      "[15:36:25] WARNING: C:/Users/Administrator/workspace/xgboost-win64_release_1.2.0/src/objective/regression_obj.cu:174: reg:linear is now deprecated in favor of reg:squarederror.\n"
     ]
    }
   ],
   "source": [
    "xg_reg.fit(X_train,y_train)\n",
    "\n",
    "preds = xg_reg.predict(final) #this is currently outputting 2018 so if i want to predict 2020, then use 2016 and 2018 data"
   ]
  },
  {
   "cell_type": "code",
   "execution_count": 73,
   "metadata": {},
   "outputs": [],
   "source": [
    "pd.DataFrame(preds).to_csv(\"C:\\\\Users\\\\rache\\\\Desktop\\\\UBS\\\\2020scores.csv\", header = None, index = False)"
   ]
  },
  {
   "cell_type": "code",
   "execution_count": 53,
   "metadata": {},
   "outputs": [
    {
     "name": "stdout",
     "output_type": "stream",
     "text": [
      "RMSE: 10.910571\n"
     ]
    }
   ],
   "source": [
    "rmse = np.sqrt(mean_squared_error(y_test, preds)) #this should be 2018\n",
    "print(\"RMSE: %f\" % (rmse))"
   ]
  },
  {
   "cell_type": "code",
   "execution_count": 54,
   "metadata": {},
   "outputs": [
    {
     "name": "stdout",
     "output_type": "stream",
     "text": [
      "[13:54:12] WARNING: C:/Users/Administrator/workspace/xgboost-win64_release_1.2.0/src/objective/regression_obj.cu:174: reg:linear is now deprecated in favor of reg:squarederror.\n",
      "[13:54:12] WARNING: C:/Users/Administrator/workspace/xgboost-win64_release_1.2.0/src/objective/regression_obj.cu:174: reg:linear is now deprecated in favor of reg:squarederror.\n",
      "[13:54:12] WARNING: C:/Users/Administrator/workspace/xgboost-win64_release_1.2.0/src/objective/regression_obj.cu:174: reg:linear is now deprecated in favor of reg:squarederror.\n"
     ]
    }
   ],
   "source": [
    "params = {\"objective\":\"reg:linear\",'colsample_bytree': 0.3,'learning_rate': 0.1,\n",
    "                'max_depth': 5, 'alpha': 10}\n",
    "\n",
    "cv_results = xgb.cv(dtrain=data_dmatrix, params=params, nfold=3,\n",
    "                    num_boost_round=100,early_stopping_rounds=10,metrics=\"rmse\", seed=170)"
   ]
  },
  {
   "cell_type": "code",
   "execution_count": 73,
   "metadata": {},
   "outputs": [
    {
     "name": "stdout",
     "output_type": "stream",
     "text": [
      "    train-rmse-mean  train-rmse-std  test-rmse-mean  test-rmse-std\n",
      "0         27.125599        0.152796       27.141649       0.345074\n",
      "1         24.483765        0.139472       24.509596       0.312929\n",
      "2         22.102930        0.128729       22.133384       0.286921\n",
      "3         19.967129        0.119751       20.004251       0.261701\n",
      "4         18.042458        0.108152       18.091891       0.244328\n",
      "..              ...             ...             ...            ...\n",
      "95         1.204510        0.007932        2.162026       0.259684\n",
      "96         1.200571        0.007273        2.160695       0.259135\n",
      "97         1.196606        0.006896        2.160219       0.259538\n",
      "98         1.191295        0.007231        2.159124       0.258978\n",
      "99         1.186768        0.005943        2.157475       0.258611\n",
      "\n",
      "[100 rows x 4 columns]\n"
     ]
    }
   ],
   "source": [
    "print(cv_results)\n",
    "#show RMSE for within the years and the future"
   ]
  }
 ],
 "metadata": {
  "kernelspec": {
   "display_name": "UBS",
   "language": "python",
   "name": "ubs"
  },
  "language_info": {
   "codemirror_mode": {
    "name": "ipython",
    "version": 3
   },
   "file_extension": ".py",
   "mimetype": "text/x-python",
   "name": "python",
   "nbconvert_exporter": "python",
   "pygments_lexer": "ipython3",
   "version": "3.8.0"
  }
 },
 "nbformat": 4,
 "nbformat_minor": 2
}
